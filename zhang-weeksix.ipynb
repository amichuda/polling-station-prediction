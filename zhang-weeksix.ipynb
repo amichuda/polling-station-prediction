{
 "cells": [
  {
   "cell_type": "markdown",
   "id": "054bc745",
   "metadata": {},
   "source": [
    "# INFO 4900 — Week Five"
   ]
  },
  {
   "cell_type": "markdown",
   "id": "3aed612b",
   "metadata": {},
   "source": [
    "## Preparing Data"
   ]
  },
  {
   "cell_type": "code",
   "execution_count": 1,
   "id": "0783d7cf",
   "metadata": {},
   "outputs": [],
   "source": [
    "import pandas as pd\n",
    "import geopandas as gpd\n",
    "import numpy as np\n",
    "import matplotlib.pyplot as plt\n",
    "import re"
   ]
  },
  {
   "cell_type": "code",
   "execution_count": 14,
   "id": "05f37eae",
   "metadata": {},
   "outputs": [],
   "source": [
    "# Load data\n",
    "polls = gpd.read_feather(\"data/polling_station_coords.feather\")\n",
    "districts = gpd.read_file(\"data/Uganda_Districts-2020---136-wgs84.zip\")\n",
    "names = pd.read_feather(\"data/names_with_kingdoms.feather\")\n",
    "\n",
    "polls1 = polls\n",
    "names1 = names\n",
    "\n",
    "polls2 = polls\n",
    "names2 = names"
   ]
  },
  {
   "cell_type": "markdown",
   "id": "774d1066",
   "metadata": {},
   "source": [
    "## Sanitizing Text: polling_station_coords.feather"
   ]
  },
  {
   "cell_type": "code",
   "execution_count": 3,
   "id": "e30e60bb",
   "metadata": {},
   "outputs": [],
   "source": [
    "# Stripping whitespace\n",
    "polls['PS_name'] = polls['PS_name'].str.strip()"
   ]
  },
  {
   "cell_type": "code",
   "execution_count": 4,
   "id": "ce06840d",
   "metadata": {},
   "outputs": [],
   "source": [
    "# Lowering case\n",
    "polls['PS_name'] = polls['PS_name'].str.lower()"
   ]
  },
  {
   "cell_type": "code",
   "execution_count": 5,
   "id": "0905ba68",
   "metadata": {},
   "outputs": [
    {
     "name": "stderr",
     "output_type": "stream",
     "text": [
      "/var/folders/33/qp5k0v8128136rvjkr63g0x00000gn/T/ipykernel_54185/2074057513.py:2: FutureWarning: The default value of regex will change from True to False in a future version.\n",
      "  polls['PS_name'] = polls['PS_name'].str.replace('[^\\w\\s]', '', True)\n"
     ]
    }
   ],
   "source": [
    "# Removing special characters\n",
    "polls['PS_name'] = polls['PS_name'].str.replace('[^\\w\\s]', '', True)"
   ]
  },
  {
   "cell_type": "code",
   "execution_count": 6,
   "id": "80e6cb35",
   "metadata": {},
   "outputs": [
    {
     "data": {
      "text/html": [
       "<div>\n",
       "<style scoped>\n",
       "    .dataframe tbody tr th:only-of-type {\n",
       "        vertical-align: middle;\n",
       "    }\n",
       "\n",
       "    .dataframe tbody tr th {\n",
       "        vertical-align: top;\n",
       "    }\n",
       "\n",
       "    .dataframe thead th {\n",
       "        text-align: right;\n",
       "    }\n",
       "</style>\n",
       "<table border=\"1\" class=\"dataframe\">\n",
       "  <thead>\n",
       "    <tr style=\"text-align: right;\">\n",
       "      <th></th>\n",
       "      <th>PS_name</th>\n",
       "      <th>PS_code</th>\n",
       "      <th>VoteReg_district_name</th>\n",
       "      <th>VoteReg_district_code</th>\n",
       "      <th>VoteReg_county_name</th>\n",
       "      <th>VoteReg_county_code</th>\n",
       "      <th>VoteReg_subcounty_name</th>\n",
       "      <th>VoteReg_subcounty_code</th>\n",
       "      <th>VoteReg_parish_code</th>\n",
       "      <th>VoteReg_parish_name</th>\n",
       "      <th>...</th>\n",
       "      <th>FDC_Registered</th>\n",
       "      <th>Turnout</th>\n",
       "      <th>REG_VOTERS</th>\n",
       "      <th>YOWERI_KAGUTA_MUSEVENI</th>\n",
       "      <th>KIZZA_BESIGYE_KIFEFE</th>\n",
       "      <th>VALID_VOTES</th>\n",
       "      <th>village_mean_distance</th>\n",
       "      <th>villages</th>\n",
       "      <th>lat_lon</th>\n",
       "      <th>points</th>\n",
       "    </tr>\n",
       "  </thead>\n",
       "  <tbody>\n",
       "    <tr>\n",
       "      <th>0</th>\n",
       "      <td>adyeda centre</td>\n",
       "      <td>1</td>\n",
       "      <td>APAC</td>\n",
       "      <td>1</td>\n",
       "      <td>KWANIA COUNTY</td>\n",
       "      <td>2</td>\n",
       "      <td>ADUKU</td>\n",
       "      <td>1</td>\n",
       "      <td>1</td>\n",
       "      <td>ADYEDA</td>\n",
       "      <td>...</td>\n",
       "      <td>0.115523</td>\n",
       "      <td>0.671480</td>\n",
       "      <td>277.0</td>\n",
       "      <td>144.0</td>\n",
       "      <td>32.0</td>\n",
       "      <td>182.0</td>\n",
       "      <td>2285.087273</td>\n",
       "      <td>ADYEDA IMALO;ANYWAL;ATAKARA;</td>\n",
       "      <td>[2.065772095790027, 32.715481326735095]</td>\n",
       "      <td>POINT (32.71548 2.06577)</td>\n",
       "    </tr>\n",
       "    <tr>\n",
       "      <th>1</th>\n",
       "      <td>aporwegi ps</td>\n",
       "      <td>2</td>\n",
       "      <td>APAC</td>\n",
       "      <td>1</td>\n",
       "      <td>KWANIA COUNTY</td>\n",
       "      <td>2</td>\n",
       "      <td>ADUKU</td>\n",
       "      <td>1</td>\n",
       "      <td>1</td>\n",
       "      <td>ADYEDA</td>\n",
       "      <td>...</td>\n",
       "      <td>0.146724</td>\n",
       "      <td>0.646724</td>\n",
       "      <td>702.0</td>\n",
       "      <td>283.0</td>\n",
       "      <td>103.0</td>\n",
       "      <td>430.0</td>\n",
       "      <td>1127.896277</td>\n",
       "      <td>ADYEDA IMALO;ANYWAL;APORWEGI AATAKARA</td>\n",
       "      <td>[2.058047456592412, 32.72281709757338]</td>\n",
       "      <td>POINT (32.72282 2.05805)</td>\n",
       "    </tr>\n",
       "    <tr>\n",
       "      <th>2</th>\n",
       "      <td>adyeda imalo</td>\n",
       "      <td>3</td>\n",
       "      <td>APAC</td>\n",
       "      <td>1</td>\n",
       "      <td>KWANIA COUNTY</td>\n",
       "      <td>2</td>\n",
       "      <td>ADUKU</td>\n",
       "      <td>1</td>\n",
       "      <td>1</td>\n",
       "      <td>ADYEDA</td>\n",
       "      <td>...</td>\n",
       "      <td>0.137072</td>\n",
       "      <td>0.753894</td>\n",
       "      <td>321.0</td>\n",
       "      <td>190.0</td>\n",
       "      <td>44.0</td>\n",
       "      <td>238.0</td>\n",
       "      <td>1921.654206</td>\n",
       "      <td>ADYEDA IMALO;ANYWAL</td>\n",
       "      <td>[2.065772095790027, 32.715481326735095]</td>\n",
       "      <td>POINT (32.71548 2.06577)</td>\n",
       "    </tr>\n",
       "    <tr>\n",
       "      <th>3</th>\n",
       "      <td>alira b</td>\n",
       "      <td>1</td>\n",
       "      <td>APAC</td>\n",
       "      <td>1</td>\n",
       "      <td>KWANIA COUNTY</td>\n",
       "      <td>2</td>\n",
       "      <td>ADUKU</td>\n",
       "      <td>1</td>\n",
       "      <td>2</td>\n",
       "      <td>ALIRA</td>\n",
       "      <td>...</td>\n",
       "      <td>0.266055</td>\n",
       "      <td>0.694954</td>\n",
       "      <td>872.0</td>\n",
       "      <td>328.0</td>\n",
       "      <td>232.0</td>\n",
       "      <td>584.0</td>\n",
       "      <td>1695.521839</td>\n",
       "      <td>AKOT A;AKOT B;AKWODONG B;AKWOYO;ALIRA A;ALIRA ...</td>\n",
       "      <td>[2.0821059545915097, 32.761479779076204]</td>\n",
       "      <td>POINT (32.76148 2.08211)</td>\n",
       "    </tr>\n",
       "    <tr>\n",
       "      <th>4</th>\n",
       "      <td>akot a</td>\n",
       "      <td>2</td>\n",
       "      <td>APAC</td>\n",
       "      <td>1</td>\n",
       "      <td>KWANIA COUNTY</td>\n",
       "      <td>2</td>\n",
       "      <td>ADUKU</td>\n",
       "      <td>1</td>\n",
       "      <td>2</td>\n",
       "      <td>ALIRA</td>\n",
       "      <td>...</td>\n",
       "      <td>0.344000</td>\n",
       "      <td>0.682667</td>\n",
       "      <td>750.0</td>\n",
       "      <td>218.0</td>\n",
       "      <td>258.0</td>\n",
       "      <td>504.0</td>\n",
       "      <td>1653.587131</td>\n",
       "      <td>AKOT A;AKOT B;AKWODONG A;AKWODONG B;AKWOYO;ALI...</td>\n",
       "      <td>[2.042473960840479, 32.742188123783855]</td>\n",
       "      <td>POINT (32.74219 2.04247)</td>\n",
       "    </tr>\n",
       "  </tbody>\n",
       "</table>\n",
       "<p>5 rows × 23 columns</p>\n",
       "</div>"
      ],
      "text/plain": [
       "         PS_name  PS_code VoteReg_district_name  VoteReg_district_code  \\\n",
       "0  adyeda centre        1                  APAC                      1   \n",
       "1    aporwegi ps        2                  APAC                      1   \n",
       "2   adyeda imalo        3                  APAC                      1   \n",
       "3        alira b        1                  APAC                      1   \n",
       "4         akot a        2                  APAC                      1   \n",
       "\n",
       "  VoteReg_county_name  VoteReg_county_code VoteReg_subcounty_name  \\\n",
       "0       KWANIA COUNTY                    2                  ADUKU   \n",
       "1       KWANIA COUNTY                    2                  ADUKU   \n",
       "2       KWANIA COUNTY                    2                  ADUKU   \n",
       "3       KWANIA COUNTY                    2                  ADUKU   \n",
       "4       KWANIA COUNTY                    2                  ADUKU   \n",
       "\n",
       "   VoteReg_subcounty_code  VoteReg_parish_code VoteReg_parish_name  ...  \\\n",
       "0                       1                    1              ADYEDA  ...   \n",
       "1                       1                    1              ADYEDA  ...   \n",
       "2                       1                    1              ADYEDA  ...   \n",
       "3                       1                    2               ALIRA  ...   \n",
       "4                       1                    2               ALIRA  ...   \n",
       "\n",
       "   FDC_Registered   Turnout  REG_VOTERS  YOWERI_KAGUTA_MUSEVENI  \\\n",
       "0        0.115523  0.671480       277.0                   144.0   \n",
       "1        0.146724  0.646724       702.0                   283.0   \n",
       "2        0.137072  0.753894       321.0                   190.0   \n",
       "3        0.266055  0.694954       872.0                   328.0   \n",
       "4        0.344000  0.682667       750.0                   218.0   \n",
       "\n",
       "   KIZZA_BESIGYE_KIFEFE  VALID_VOTES  village_mean_distance  \\\n",
       "0                  32.0        182.0            2285.087273   \n",
       "1                 103.0        430.0            1127.896277   \n",
       "2                  44.0        238.0            1921.654206   \n",
       "3                 232.0        584.0            1695.521839   \n",
       "4                 258.0        504.0            1653.587131   \n",
       "\n",
       "                                            villages  \\\n",
       "0                       ADYEDA IMALO;ANYWAL;ATAKARA;   \n",
       "1              ADYEDA IMALO;ANYWAL;APORWEGI AATAKARA   \n",
       "2                                ADYEDA IMALO;ANYWAL   \n",
       "3  AKOT A;AKOT B;AKWODONG B;AKWOYO;ALIRA A;ALIRA ...   \n",
       "4  AKOT A;AKOT B;AKWODONG A;AKWODONG B;AKWOYO;ALI...   \n",
       "\n",
       "                                    lat_lon                    points  \n",
       "0   [2.065772095790027, 32.715481326735095]  POINT (32.71548 2.06577)  \n",
       "1    [2.058047456592412, 32.72281709757338]  POINT (32.72282 2.05805)  \n",
       "2   [2.065772095790027, 32.715481326735095]  POINT (32.71548 2.06577)  \n",
       "3  [2.0821059545915097, 32.761479779076204]  POINT (32.76148 2.08211)  \n",
       "4   [2.042473960840479, 32.742188123783855]  POINT (32.74219 2.04247)  \n",
       "\n",
       "[5 rows x 23 columns]"
      ]
     },
     "execution_count": 6,
     "metadata": {},
     "output_type": "execute_result"
    }
   ],
   "source": [
    "# Second look at dataframe\n",
    "polls.head()"
   ]
  },
  {
   "cell_type": "markdown",
   "id": "e778d169",
   "metadata": {},
   "source": [
    "## Sanitizing Text: names_with_kingdoms.feather"
   ]
  },
  {
   "cell_type": "code",
   "execution_count": 7,
   "id": "bd7e4504",
   "metadata": {},
   "outputs": [],
   "source": [
    "# Stripping whitespace\n",
    "names['polling_station'] = names['polling_station'].str.strip()"
   ]
  },
  {
   "cell_type": "code",
   "execution_count": 8,
   "id": "9d20548f",
   "metadata": {},
   "outputs": [],
   "source": [
    "# Lowering case\n",
    "names['polling_station'] = names['polling_station'].str.lower()"
   ]
  },
  {
   "cell_type": "code",
   "execution_count": 9,
   "id": "fa68005e",
   "metadata": {},
   "outputs": [
    {
     "name": "stderr",
     "output_type": "stream",
     "text": [
      "/var/folders/33/qp5k0v8128136rvjkr63g0x00000gn/T/ipykernel_54185/820029302.py:2: FutureWarning: The default value of regex will change from True to False in a future version.\n",
      "  names['polling_station'] = names['polling_station'].str.replace('[^\\w\\s]', '', True)\n"
     ]
    }
   ],
   "source": [
    "# Removing special characters\n",
    "names['polling_station'] = names['polling_station'].str.replace('[^\\w\\s]', '', True)"
   ]
  },
  {
   "cell_type": "code",
   "execution_count": 10,
   "id": "40fb1dcb",
   "metadata": {},
   "outputs": [
    {
     "data": {
      "text/html": [
       "<div>\n",
       "<style scoped>\n",
       "    .dataframe tbody tr th:only-of-type {\n",
       "        vertical-align: middle;\n",
       "    }\n",
       "\n",
       "    .dataframe tbody tr th {\n",
       "        vertical-align: top;\n",
       "    }\n",
       "\n",
       "    .dataframe thead th {\n",
       "        text-align: right;\n",
       "    }\n",
       "</style>\n",
       "<table border=\"1\" class=\"dataframe\">\n",
       "  <thead>\n",
       "    <tr style=\"text-align: right;\">\n",
       "      <th></th>\n",
       "      <th>Unnamed: 0</th>\n",
       "      <th>appid_receipt_num</th>\n",
       "      <th>constituency</th>\n",
       "      <th>constituency_num</th>\n",
       "      <th>date_of_birth</th>\n",
       "      <th>district</th>\n",
       "      <th>district_num</th>\n",
       "      <th>other_name</th>\n",
       "      <th>parish</th>\n",
       "      <th>parish_num</th>\n",
       "      <th>polling_station</th>\n",
       "      <th>polling_station_num</th>\n",
       "      <th>sex</th>\n",
       "      <th>sub_county</th>\n",
       "      <th>sub_county_num</th>\n",
       "      <th>surname</th>\n",
       "      <th>village</th>\n",
       "      <th>voter_num</th>\n",
       "      <th>d_names</th>\n",
       "      <th>region</th>\n",
       "    </tr>\n",
       "  </thead>\n",
       "  <tbody>\n",
       "    <tr>\n",
       "      <th>0</th>\n",
       "      <td>0</td>\n",
       "      <td>1206420000MP6/CF8407</td>\n",
       "      <td>KWANIA COUNTY</td>\n",
       "      <td>2</td>\n",
       "      <td>26-12-1984</td>\n",
       "      <td>Apac</td>\n",
       "      <td>1</td>\n",
       "      <td>CHRISTINE</td>\n",
       "      <td>ADYEDA</td>\n",
       "      <td>1</td>\n",
       "      <td>adyeda centre</td>\n",
       "      <td>1</td>\n",
       "      <td>F</td>\n",
       "      <td>ADUKU</td>\n",
       "      <td>1</td>\n",
       "      <td>ABANG</td>\n",
       "      <td>ANYWAL</td>\n",
       "      <td>61281069</td>\n",
       "      <td>Apac</td>\n",
       "      <td>Lango</td>\n",
       "    </tr>\n",
       "    <tr>\n",
       "      <th>1</th>\n",
       "      <td>1</td>\n",
       "      <td>0906720000RKU/CF4900</td>\n",
       "      <td>KWANIA COUNTY</td>\n",
       "      <td>2</td>\n",
       "      <td>10-05-1949</td>\n",
       "      <td>Apac</td>\n",
       "      <td>1</td>\n",
       "      <td>BITU</td>\n",
       "      <td>ADYEDA</td>\n",
       "      <td>1</td>\n",
       "      <td>adyeda centre</td>\n",
       "      <td>1</td>\n",
       "      <td>F</td>\n",
       "      <td>ADUKU</td>\n",
       "      <td>1</td>\n",
       "      <td>ABEJA</td>\n",
       "      <td>ATAKARA</td>\n",
       "      <td>58687089</td>\n",
       "      <td>Apac</td>\n",
       "      <td>Lango</td>\n",
       "    </tr>\n",
       "    <tr>\n",
       "      <th>2</th>\n",
       "      <td>2</td>\n",
       "      <td>1025320003CZW/CM910</td>\n",
       "      <td>KWANIA COUNTY</td>\n",
       "      <td>2</td>\n",
       "      <td>07-07-1991</td>\n",
       "      <td>Apac</td>\n",
       "      <td>1</td>\n",
       "      <td>JACOB</td>\n",
       "      <td>ADYEDA</td>\n",
       "      <td>1</td>\n",
       "      <td>adyeda centre</td>\n",
       "      <td>1</td>\n",
       "      <td>M</td>\n",
       "      <td>ADUKU</td>\n",
       "      <td>1</td>\n",
       "      <td>ABILI</td>\n",
       "      <td>ADYEDA IMALO</td>\n",
       "      <td>55386251</td>\n",
       "      <td>Apac</td>\n",
       "      <td>Lango</td>\n",
       "    </tr>\n",
       "    <tr>\n",
       "      <th>3</th>\n",
       "      <td>3</td>\n",
       "      <td>1328720001XLP/CF8200</td>\n",
       "      <td>KWANIA COUNTY</td>\n",
       "      <td>2</td>\n",
       "      <td>16-03-1982</td>\n",
       "      <td>Apac</td>\n",
       "      <td>1</td>\n",
       "      <td>JENIFFER</td>\n",
       "      <td>ADYEDA</td>\n",
       "      <td>1</td>\n",
       "      <td>adyeda centre</td>\n",
       "      <td>1</td>\n",
       "      <td>F</td>\n",
       "      <td>ADUKU</td>\n",
       "      <td>1</td>\n",
       "      <td>ABUNI</td>\n",
       "      <td>ANYWAL</td>\n",
       "      <td>64284712</td>\n",
       "      <td>Apac</td>\n",
       "      <td>Lango</td>\n",
       "    </tr>\n",
       "    <tr>\n",
       "      <th>4</th>\n",
       "      <td>4</td>\n",
       "      <td>0906720000UV6/CF7500</td>\n",
       "      <td>KWANIA COUNTY</td>\n",
       "      <td>2</td>\n",
       "      <td>05-05-1975</td>\n",
       "      <td>Apac</td>\n",
       "      <td>1</td>\n",
       "      <td>EVALINE</td>\n",
       "      <td>ADYEDA</td>\n",
       "      <td>1</td>\n",
       "      <td>adyeda centre</td>\n",
       "      <td>1</td>\n",
       "      <td>F</td>\n",
       "      <td>ADUKU</td>\n",
       "      <td>1</td>\n",
       "      <td>ABWOLI</td>\n",
       "      <td>ATAKARA</td>\n",
       "      <td>63056778</td>\n",
       "      <td>Apac</td>\n",
       "      <td>Lango</td>\n",
       "    </tr>\n",
       "  </tbody>\n",
       "</table>\n",
       "</div>"
      ],
      "text/plain": [
       "   Unnamed: 0     appid_receipt_num   constituency  constituency_num  \\\n",
       "0           0  1206420000MP6/CF8407  KWANIA COUNTY                 2   \n",
       "1           1  0906720000RKU/CF4900  KWANIA COUNTY                 2   \n",
       "2           2   1025320003CZW/CM910  KWANIA COUNTY                 2   \n",
       "3           3  1328720001XLP/CF8200  KWANIA COUNTY                 2   \n",
       "4           4  0906720000UV6/CF7500  KWANIA COUNTY                 2   \n",
       "\n",
       "  date_of_birth district  district_num other_name  parish  parish_num  \\\n",
       "0    26-12-1984     Apac             1  CHRISTINE  ADYEDA           1   \n",
       "1    10-05-1949     Apac             1       BITU  ADYEDA           1   \n",
       "2    07-07-1991     Apac             1      JACOB  ADYEDA           1   \n",
       "3    16-03-1982     Apac             1   JENIFFER  ADYEDA           1   \n",
       "4    05-05-1975     Apac             1    EVALINE  ADYEDA           1   \n",
       "\n",
       "  polling_station  polling_station_num sex sub_county  sub_county_num surname  \\\n",
       "0   adyeda centre                    1   F      ADUKU               1   ABANG   \n",
       "1   adyeda centre                    1   F      ADUKU               1   ABEJA   \n",
       "2   adyeda centre                    1   M      ADUKU               1   ABILI   \n",
       "3   adyeda centre                    1   F      ADUKU               1   ABUNI   \n",
       "4   adyeda centre                    1   F      ADUKU               1  ABWOLI   \n",
       "\n",
       "        village  voter_num d_names region  \n",
       "0        ANYWAL   61281069    Apac  Lango  \n",
       "1       ATAKARA   58687089    Apac  Lango  \n",
       "2  ADYEDA IMALO   55386251    Apac  Lango  \n",
       "3        ANYWAL   64284712    Apac  Lango  \n",
       "4       ATAKARA   63056778    Apac  Lango  "
      ]
     },
     "execution_count": 10,
     "metadata": {},
     "output_type": "execute_result"
    }
   ],
   "source": [
    "# Second look at dataframe\n",
    "names.head()"
   ]
  },
  {
   "cell_type": "markdown",
   "id": "820b4ab7",
   "metadata": {},
   "source": [
    "## Preliminary Merge"
   ]
  },
  {
   "cell_type": "code",
   "execution_count": 13,
   "id": "821af84c",
   "metadata": {},
   "outputs": [],
   "source": [
    "# Merge polling station and voter dataframes\n",
    "merged_df = pd.merge(polls, names, left_on = \"PS_name\", right_on = \"polling_station\", how = \"outer\", indicator = True)"
   ]
  },
  {
   "cell_type": "code",
   "execution_count": 14,
   "id": "c3f4c32f",
   "metadata": {},
   "outputs": [
    {
     "name": "stdout",
     "output_type": "stream",
     "text": [
      "                PS_name  PS_code VoteReg_district_name  VoteReg_district_code  \\\n",
      "0         adyeda centre      1.0                  APAC                    1.0   \n",
      "1         adyeda centre      1.0                  APAC                    1.0   \n",
      "2         adyeda centre      1.0                  APAC                    1.0   \n",
      "3         adyeda centre      1.0                  APAC                    1.0   \n",
      "4         adyeda centre      1.0                  APAC                    1.0   \n",
      "...                 ...      ...                   ...                    ...   \n",
      "15400869            NaN      NaN                   NaN                    NaN   \n",
      "15400870            NaN      NaN                   NaN                    NaN   \n",
      "15400871            NaN      NaN                   NaN                    NaN   \n",
      "15400872            NaN      NaN                   NaN                    NaN   \n",
      "15400873            NaN      NaN                   NaN                    NaN   \n",
      "\n",
      "         VoteReg_county_name  VoteReg_county_code VoteReg_subcounty_name  \\\n",
      "0              KWANIA COUNTY                  2.0                  ADUKU   \n",
      "1              KWANIA COUNTY                  2.0                  ADUKU   \n",
      "2              KWANIA COUNTY                  2.0                  ADUKU   \n",
      "3              KWANIA COUNTY                  2.0                  ADUKU   \n",
      "4              KWANIA COUNTY                  2.0                  ADUKU   \n",
      "...                      ...                  ...                    ...   \n",
      "15400869                 NaN                  NaN                    NaN   \n",
      "15400870                 NaN                  NaN                    NaN   \n",
      "15400871                 NaN                  NaN                    NaN   \n",
      "15400872                 NaN                  NaN                    NaN   \n",
      "15400873                 NaN                  NaN                    NaN   \n",
      "\n",
      "          VoteReg_subcounty_code  VoteReg_parish_code VoteReg_parish_name  \\\n",
      "0                            1.0                  1.0              ADYEDA   \n",
      "1                            1.0                  1.0              ADYEDA   \n",
      "2                            1.0                  1.0              ADYEDA   \n",
      "3                            1.0                  1.0              ADYEDA   \n",
      "4                            1.0                  1.0              ADYEDA   \n",
      "...                          ...                  ...                 ...   \n",
      "15400869                     NaN                  NaN                 NaN   \n",
      "15400870                     NaN                  NaN                 NaN   \n",
      "15400871                     NaN                  NaN                 NaN   \n",
      "15400872                     NaN                  NaN                 NaN   \n",
      "15400873                     NaN                  NaN                 NaN   \n",
      "\n",
      "          ...  polling_station_num  sex          sub_county  sub_county_num  \\\n",
      "0         ...                  1.0    F               ADUKU             1.0   \n",
      "1         ...                  1.0    F               ADUKU             1.0   \n",
      "2         ...                  1.0    M               ADUKU             1.0   \n",
      "3         ...                  1.0    F               ADUKU             1.0   \n",
      "4         ...                  1.0    F               ADUKU             1.0   \n",
      "...       ...                  ...  ...                 ...             ...   \n",
      "15400869  ...                  6.0    M  GOMBE TOWN COUNCIL             6.0   \n",
      "15400870  ...                  6.0    F  GOMBE TOWN COUNCIL             6.0   \n",
      "15400871  ...                  6.0    M  GOMBE TOWN COUNCIL             6.0   \n",
      "15400872  ...                  6.0    M  GOMBE TOWN COUNCIL             6.0   \n",
      "15400873  ...                  6.0    M  GOMBE TOWN COUNCIL             6.0   \n",
      "\n",
      "            surname        village   voter_num    d_names   region      _merge  \n",
      "0             ABANG         ANYWAL  61281069.0       Apac    Lango        both  \n",
      "1             ABEJA        ATAKARA  58687089.0       Apac    Lango        both  \n",
      "2             ABILI   ADYEDA IMALO  55386251.0       Apac    Lango        both  \n",
      "3             ABUNI         ANYWAL  64284712.0       Apac    Lango        both  \n",
      "4            ABWOLI        ATAKARA  63056778.0       Apac    Lango        both  \n",
      "...             ...            ...         ...        ...      ...         ...  \n",
      "15400869      ZIJJA      GOMBE SSS  59821106.0  Butambala  Buganda  right_only  \n",
      "15400870  ZILIBAGWA  GOMBE VILLAGE  60526798.0  Butambala  Buganda  right_only  \n",
      "15400871   ZINABALA  GOMBE VILLAGE  59905174.0  Butambala  Buganda  right_only  \n",
      "15400872      ZINDA  GOMBE VILLAGE  63709609.0  Butambala  Buganda  right_only  \n",
      "15400873       ZIWA  GOMBE VILLAGE  51793494.0  Butambala  Buganda  right_only  \n",
      "\n",
      "[15400874 rows x 44 columns]\n"
     ]
    }
   ],
   "source": [
    "# Quick look at merged data\n",
    "print(merged_df)"
   ]
  },
  {
   "cell_type": "code",
   "execution_count": 15,
   "id": "f8164371",
   "metadata": {
    "scrolled": true
   },
   "outputs": [
    {
     "data": {
      "text/plain": [
       "PS_name\n",
       "kasambya                   12\n",
       "st kizito p/s              10\n",
       "kalagala                    8\n",
       "new apostolic church        8\n",
       "kashenyi ps                 7\n",
       "                           ..\n",
       "kalkwaroc-z]                1\n",
       "kalkwaro a-b]               1\n",
       "kaliza community school     1\n",
       "kalitusi tc                 1\n",
       "zziru ps                    1\n",
       "Name: PS_name, Length: 26812, dtype: int64"
      ]
     },
     "execution_count": 15,
     "metadata": {},
     "output_type": "execute_result"
    }
   ],
   "source": [
    "polls.groupby('PS_name')['PS_name'].count().sort_values(ascending = False)"
   ]
  },
  {
   "cell_type": "code",
   "execution_count": 16,
   "id": "e0566367",
   "metadata": {},
   "outputs": [
    {
     "data": {
      "text/plain": [
       "right_only    9124171\n",
       "both          6259136\n",
       "left_only       17567\n",
       "Name: _merge, dtype: int64"
      ]
     },
     "execution_count": 16,
     "metadata": {},
     "output_type": "execute_result"
    }
   ],
   "source": [
    "# Count of successfully and unsuccessfully merged rows\n",
    "merged_df[\"_merge\"].value_counts()"
   ]
  },
  {
   "cell_type": "code",
   "execution_count": 17,
   "id": "9e7d2448",
   "metadata": {},
   "outputs": [
    {
     "data": {
      "text/html": [
       "<div>\n",
       "<style scoped>\n",
       "    .dataframe tbody tr th:only-of-type {\n",
       "        vertical-align: middle;\n",
       "    }\n",
       "\n",
       "    .dataframe tbody tr th {\n",
       "        vertical-align: top;\n",
       "    }\n",
       "\n",
       "    .dataframe thead th {\n",
       "        text-align: right;\n",
       "    }\n",
       "</style>\n",
       "<table border=\"1\" class=\"dataframe\">\n",
       "  <thead>\n",
       "    <tr style=\"text-align: right;\">\n",
       "      <th></th>\n",
       "      <th>_merge</th>\n",
       "      <th>VoteReg_district_name</th>\n",
       "      <th>num</th>\n",
       "    </tr>\n",
       "  </thead>\n",
       "  <tbody>\n",
       "    <tr>\n",
       "      <th>109</th>\n",
       "      <td>left_only</td>\n",
       "      <td>WAKISO</td>\n",
       "      <td>1270</td>\n",
       "    </tr>\n",
       "    <tr>\n",
       "      <th>42</th>\n",
       "      <td>left_only</td>\n",
       "      <td>KAMPALA</td>\n",
       "      <td>1196</td>\n",
       "    </tr>\n",
       "    <tr>\n",
       "      <th>50</th>\n",
       "      <td>left_only</td>\n",
       "      <td>KIBAALE</td>\n",
       "      <td>424</td>\n",
       "    </tr>\n",
       "    <tr>\n",
       "      <th>9</th>\n",
       "      <td>left_only</td>\n",
       "      <td>ARUA</td>\n",
       "      <td>405</td>\n",
       "    </tr>\n",
       "    <tr>\n",
       "      <th>47</th>\n",
       "      <td>left_only</td>\n",
       "      <td>KASESE</td>\n",
       "      <td>398</td>\n",
       "    </tr>\n",
       "    <tr>\n",
       "      <th>...</th>\n",
       "      <td>...</td>\n",
       "      <td>...</td>\n",
       "      <td>...</td>\n",
       "    </tr>\n",
       "    <tr>\n",
       "      <th>190</th>\n",
       "      <td>right_only</td>\n",
       "      <td>MITOOMA</td>\n",
       "      <td>0</td>\n",
       "    </tr>\n",
       "    <tr>\n",
       "      <th>191</th>\n",
       "      <td>right_only</td>\n",
       "      <td>MITYANA</td>\n",
       "      <td>0</td>\n",
       "    </tr>\n",
       "    <tr>\n",
       "      <th>192</th>\n",
       "      <td>right_only</td>\n",
       "      <td>MOROTO</td>\n",
       "      <td>0</td>\n",
       "    </tr>\n",
       "    <tr>\n",
       "      <th>193</th>\n",
       "      <td>right_only</td>\n",
       "      <td>MOYO</td>\n",
       "      <td>0</td>\n",
       "    </tr>\n",
       "    <tr>\n",
       "      <th>335</th>\n",
       "      <td>both</td>\n",
       "      <td>ZOMBO</td>\n",
       "      <td>0</td>\n",
       "    </tr>\n",
       "  </tbody>\n",
       "</table>\n",
       "<p>336 rows × 3 columns</p>\n",
       "</div>"
      ],
      "text/plain": [
       "         _merge VoteReg_district_name   num\n",
       "109   left_only                WAKISO  1270\n",
       "42    left_only               KAMPALA  1196\n",
       "50    left_only               KIBAALE   424\n",
       "9     left_only                  ARUA   405\n",
       "47    left_only                KASESE   398\n",
       "..          ...                   ...   ...\n",
       "190  right_only               MITOOMA     0\n",
       "191  right_only               MITYANA     0\n",
       "192  right_only                MOROTO     0\n",
       "193  right_only                  MOYO     0\n",
       "335        both                 ZOMBO     0\n",
       "\n",
       "[336 rows x 3 columns]"
      ]
     },
     "execution_count": 17,
     "metadata": {},
     "output_type": "execute_result"
    }
   ],
   "source": [
    "# Find districts with the most stations in the polls dataset but not the names dataset\n",
    "merged_df.query(\"_merge == 'left_only'\").groupby([\"_merge\", \"VoteReg_district_name\"])[\"PS_name\"].nunique().reset_index(name='num').sort_values(['num'], ascending=False)"
   ]
  },
  {
   "cell_type": "code",
   "execution_count": 18,
   "id": "47a3c9f5",
   "metadata": {},
   "outputs": [
    {
     "data": {
      "text/html": [
       "<div>\n",
       "<style scoped>\n",
       "    .dataframe tbody tr th:only-of-type {\n",
       "        vertical-align: middle;\n",
       "    }\n",
       "\n",
       "    .dataframe tbody tr th {\n",
       "        vertical-align: top;\n",
       "    }\n",
       "\n",
       "    .dataframe thead th {\n",
       "        text-align: right;\n",
       "    }\n",
       "</style>\n",
       "<table border=\"1\" class=\"dataframe\">\n",
       "  <thead>\n",
       "    <tr style=\"text-align: right;\">\n",
       "      <th></th>\n",
       "      <th>_merge</th>\n",
       "      <th>d_names</th>\n",
       "      <th>num</th>\n",
       "    </tr>\n",
       "  </thead>\n",
       "  <tbody>\n",
       "    <tr>\n",
       "      <th>221</th>\n",
       "      <td>right_only</td>\n",
       "      <td>Wakiso</td>\n",
       "      <td>443</td>\n",
       "    </tr>\n",
       "    <tr>\n",
       "      <th>162</th>\n",
       "      <td>right_only</td>\n",
       "      <td>Kibaale</td>\n",
       "      <td>321</td>\n",
       "    </tr>\n",
       "    <tr>\n",
       "      <th>121</th>\n",
       "      <td>right_only</td>\n",
       "      <td>Arua</td>\n",
       "      <td>311</td>\n",
       "    </tr>\n",
       "    <tr>\n",
       "      <th>159</th>\n",
       "      <td>right_only</td>\n",
       "      <td>Kasese</td>\n",
       "      <td>287</td>\n",
       "    </tr>\n",
       "    <tr>\n",
       "      <th>154</th>\n",
       "      <td>right_only</td>\n",
       "      <td>Kampala</td>\n",
       "      <td>267</td>\n",
       "    </tr>\n",
       "    <tr>\n",
       "      <th>...</th>\n",
       "      <td>...</td>\n",
       "      <td>...</td>\n",
       "      <td>...</td>\n",
       "    </tr>\n",
       "    <tr>\n",
       "      <th>79</th>\n",
       "      <td>left_only</td>\n",
       "      <td>Mityana</td>\n",
       "      <td>0</td>\n",
       "    </tr>\n",
       "    <tr>\n",
       "      <th>80</th>\n",
       "      <td>left_only</td>\n",
       "      <td>Moroto</td>\n",
       "      <td>0</td>\n",
       "    </tr>\n",
       "    <tr>\n",
       "      <th>81</th>\n",
       "      <td>left_only</td>\n",
       "      <td>Moyo</td>\n",
       "      <td>0</td>\n",
       "    </tr>\n",
       "    <tr>\n",
       "      <th>82</th>\n",
       "      <td>left_only</td>\n",
       "      <td>Mpigi</td>\n",
       "      <td>0</td>\n",
       "    </tr>\n",
       "    <tr>\n",
       "      <th>335</th>\n",
       "      <td>both</td>\n",
       "      <td>Zombo</td>\n",
       "      <td>0</td>\n",
       "    </tr>\n",
       "  </tbody>\n",
       "</table>\n",
       "<p>336 rows × 3 columns</p>\n",
       "</div>"
      ],
      "text/plain": [
       "         _merge  d_names  num\n",
       "221  right_only   Wakiso  443\n",
       "162  right_only  Kibaale  321\n",
       "121  right_only     Arua  311\n",
       "159  right_only   Kasese  287\n",
       "154  right_only  Kampala  267\n",
       "..          ...      ...  ...\n",
       "79    left_only  Mityana    0\n",
       "80    left_only   Moroto    0\n",
       "81    left_only     Moyo    0\n",
       "82    left_only    Mpigi    0\n",
       "335        both    Zombo    0\n",
       "\n",
       "[336 rows x 3 columns]"
      ]
     },
     "execution_count": 18,
     "metadata": {},
     "output_type": "execute_result"
    }
   ],
   "source": [
    "# Find districts with the most stations in the names dataset but not the polls dataset\n",
    "merged_df.query(\"_merge == 'right_only'\").groupby([\"_merge\", \"d_names\"])[\"polling_station\"].nunique().reset_index(name='num').sort_values(['num'], ascending=False)"
   ]
  },
  {
   "cell_type": "code",
   "execution_count": 19,
   "id": "1ac5259b",
   "metadata": {},
   "outputs": [
    {
     "data": {
      "text/html": [
       "<div>\n",
       "<style scoped>\n",
       "    .dataframe tbody tr th:only-of-type {\n",
       "        vertical-align: middle;\n",
       "    }\n",
       "\n",
       "    .dataframe tbody tr th {\n",
       "        vertical-align: top;\n",
       "    }\n",
       "\n",
       "    .dataframe thead th {\n",
       "        text-align: right;\n",
       "    }\n",
       "</style>\n",
       "<table border=\"1\" class=\"dataframe\">\n",
       "  <thead>\n",
       "    <tr style=\"text-align: right;\">\n",
       "      <th></th>\n",
       "      <th>_merge</th>\n",
       "      <th>d_names</th>\n",
       "      <th>num</th>\n",
       "    </tr>\n",
       "  </thead>\n",
       "  <tbody>\n",
       "    <tr>\n",
       "      <th>307</th>\n",
       "      <td>both</td>\n",
       "      <td>Mubende</td>\n",
       "      <td>379</td>\n",
       "    </tr>\n",
       "    <tr>\n",
       "      <th>261</th>\n",
       "      <td>both</td>\n",
       "      <td>Kabarole</td>\n",
       "      <td>259</td>\n",
       "    </tr>\n",
       "    <tr>\n",
       "      <th>260</th>\n",
       "      <td>both</td>\n",
       "      <td>Kabale</td>\n",
       "      <td>257</td>\n",
       "    </tr>\n",
       "    <tr>\n",
       "      <th>257</th>\n",
       "      <td>both</td>\n",
       "      <td>Isingiro</td>\n",
       "      <td>217</td>\n",
       "    </tr>\n",
       "    <tr>\n",
       "      <th>308</th>\n",
       "      <td>both</td>\n",
       "      <td>Mukono</td>\n",
       "      <td>213</td>\n",
       "    </tr>\n",
       "    <tr>\n",
       "      <th>...</th>\n",
       "      <td>...</td>\n",
       "      <td>...</td>\n",
       "      <td>...</td>\n",
       "    </tr>\n",
       "    <tr>\n",
       "      <th>110</th>\n",
       "      <td>left_only</td>\n",
       "      <td>Yumbe</td>\n",
       "      <td>0</td>\n",
       "    </tr>\n",
       "    <tr>\n",
       "      <th>109</th>\n",
       "      <td>left_only</td>\n",
       "      <td>Wakiso</td>\n",
       "      <td>0</td>\n",
       "    </tr>\n",
       "    <tr>\n",
       "      <th>108</th>\n",
       "      <td>left_only</td>\n",
       "      <td>Tororo</td>\n",
       "      <td>0</td>\n",
       "    </tr>\n",
       "    <tr>\n",
       "      <th>107</th>\n",
       "      <td>left_only</td>\n",
       "      <td>Ssembabule</td>\n",
       "      <td>0</td>\n",
       "    </tr>\n",
       "    <tr>\n",
       "      <th>168</th>\n",
       "      <td>right_only</td>\n",
       "      <td>Kitgum</td>\n",
       "      <td>0</td>\n",
       "    </tr>\n",
       "  </tbody>\n",
       "</table>\n",
       "<p>336 rows × 3 columns</p>\n",
       "</div>"
      ],
      "text/plain": [
       "         _merge     d_names  num\n",
       "307        both     Mubende  379\n",
       "261        both    Kabarole  259\n",
       "260        both      Kabale  257\n",
       "257        both    Isingiro  217\n",
       "308        both      Mukono  213\n",
       "..          ...         ...  ...\n",
       "110   left_only       Yumbe    0\n",
       "109   left_only      Wakiso    0\n",
       "108   left_only      Tororo    0\n",
       "107   left_only  Ssembabule    0\n",
       "168  right_only      Kitgum    0\n",
       "\n",
       "[336 rows x 3 columns]"
      ]
     },
     "execution_count": 19,
     "metadata": {},
     "output_type": "execute_result"
    }
   ],
   "source": [
    "# Find districts with the most stations matched in both datasets\n",
    "merged_df.query(\"_merge == 'both'\").groupby([\"_merge\", \"d_names\"])[\"polling_station\"].nunique().reset_index(name='num').sort_values(['num'], ascending=False)"
   ]
  },
  {
   "cell_type": "code",
   "execution_count": 20,
   "id": "e73d420b",
   "metadata": {},
   "outputs": [
    {
     "data": {
      "text/html": [
       "<div>\n",
       "<style scoped>\n",
       "    .dataframe tbody tr th:only-of-type {\n",
       "        vertical-align: middle;\n",
       "    }\n",
       "\n",
       "    .dataframe tbody tr th {\n",
       "        vertical-align: top;\n",
       "    }\n",
       "\n",
       "    .dataframe thead th {\n",
       "        text-align: right;\n",
       "    }\n",
       "</style>\n",
       "<table border=\"1\" class=\"dataframe\">\n",
       "  <thead>\n",
       "    <tr style=\"text-align: right;\">\n",
       "      <th></th>\n",
       "      <th>_merge</th>\n",
       "      <th>PS_name</th>\n",
       "      <th>num</th>\n",
       "    </tr>\n",
       "  </thead>\n",
       "  <tbody>\n",
       "    <tr>\n",
       "      <th>15859</th>\n",
       "      <td>left_only</td>\n",
       "      <td>st kizito p/s</td>\n",
       "      <td>10</td>\n",
       "    </tr>\n",
       "    <tr>\n",
       "      <th>6305</th>\n",
       "      <td>left_only</td>\n",
       "      <td>kasozi ps</td>\n",
       "      <td>7</td>\n",
       "    </tr>\n",
       "    <tr>\n",
       "      <th>6215</th>\n",
       "      <td>left_only</td>\n",
       "      <td>kashenyi ps</td>\n",
       "      <td>7</td>\n",
       "    </tr>\n",
       "    <tr>\n",
       "      <th>1750</th>\n",
       "      <td>left_only</td>\n",
       "      <td>bugembe health centre iv</td>\n",
       "      <td>6</td>\n",
       "    </tr>\n",
       "    <tr>\n",
       "      <th>6727</th>\n",
       "      <td>left_only</td>\n",
       "      <td>kayonza ps</td>\n",
       "      <td>6</td>\n",
       "    </tr>\n",
       "    <tr>\n",
       "      <th>...</th>\n",
       "      <td>...</td>\n",
       "      <td>...</td>\n",
       "      <td>...</td>\n",
       "    </tr>\n",
       "    <tr>\n",
       "      <th>28049</th>\n",
       "      <td>right_only</td>\n",
       "      <td>muhokya prschool (a-l</td>\n",
       "      <td>0</td>\n",
       "    </tr>\n",
       "    <tr>\n",
       "      <th>28048</th>\n",
       "      <td>right_only</td>\n",
       "      <td>muhito ps</td>\n",
       "      <td>0</td>\n",
       "    </tr>\n",
       "    <tr>\n",
       "      <th>28047</th>\n",
       "      <td>right_only</td>\n",
       "      <td>muhira ps</td>\n",
       "      <td>0</td>\n",
       "    </tr>\n",
       "    <tr>\n",
       "      <th>28046</th>\n",
       "      <td>right_only</td>\n",
       "      <td>muhindi ps</td>\n",
       "      <td>0</td>\n",
       "    </tr>\n",
       "    <tr>\n",
       "      <th>50498</th>\n",
       "      <td>both</td>\n",
       "      <td>zziru ps</td>\n",
       "      <td>0</td>\n",
       "    </tr>\n",
       "  </tbody>\n",
       "</table>\n",
       "<p>50499 rows × 3 columns</p>\n",
       "</div>"
      ],
      "text/plain": [
       "           _merge                   PS_name  num\n",
       "15859   left_only             st kizito p/s   10\n",
       "6305    left_only                 kasozi ps    7\n",
       "6215    left_only               kashenyi ps    7\n",
       "1750    left_only  bugembe health centre iv    6\n",
       "6727    left_only                kayonza ps    6\n",
       "...           ...                       ...  ...\n",
       "28049  right_only     muhokya prschool (a-l    0\n",
       "28048  right_only                 muhito ps    0\n",
       "28047  right_only                 muhira ps    0\n",
       "28046  right_only                muhindi ps    0\n",
       "50498        both                  zziru ps    0\n",
       "\n",
       "[50499 rows x 3 columns]"
      ]
     },
     "execution_count": 20,
     "metadata": {},
     "output_type": "execute_result"
    }
   ],
   "source": [
    "# Find names of unsuccessfully matched stations from polls dataset, sorted by population\n",
    "merged_df.query(\"_merge == 'left_only'\").groupby([\"_merge\", \"PS_name\"]).size().reset_index(name='num').sort_values(['num'], ascending=False)"
   ]
  },
  {
   "cell_type": "code",
   "execution_count": 21,
   "id": "14d8b6ab",
   "metadata": {
    "scrolled": true
   },
   "outputs": [
    {
     "data": {
      "text/html": [
       "<div>\n",
       "<style scoped>\n",
       "    .dataframe tbody tr th:only-of-type {\n",
       "        vertical-align: middle;\n",
       "    }\n",
       "\n",
       "    .dataframe tbody tr th {\n",
       "        vertical-align: top;\n",
       "    }\n",
       "\n",
       "    .dataframe thead th {\n",
       "        text-align: right;\n",
       "    }\n",
       "</style>\n",
       "<table border=\"1\" class=\"dataframe\">\n",
       "  <thead>\n",
       "    <tr style=\"text-align: right;\">\n",
       "      <th></th>\n",
       "      <th>_merge</th>\n",
       "      <th>polling_station</th>\n",
       "      <th>num</th>\n",
       "    </tr>\n",
       "  </thead>\n",
       "  <tbody>\n",
       "    <tr>\n",
       "      <th>23901</th>\n",
       "      <td>right_only</td>\n",
       "      <td>st</td>\n",
       "      <td>194843</td>\n",
       "    </tr>\n",
       "    <tr>\n",
       "      <th>24009</th>\n",
       "      <td>right_only</td>\n",
       "      <td>te</td>\n",
       "      <td>25179</td>\n",
       "    </tr>\n",
       "    <tr>\n",
       "      <th>24409</th>\n",
       "      <td>right_only</td>\n",
       "      <td>zone</td>\n",
       "      <td>13176</td>\n",
       "    </tr>\n",
       "    <tr>\n",
       "      <th>19479</th>\n",
       "      <td>right_only</td>\n",
       "      <td>lc meeting place</td>\n",
       "      <td>11536</td>\n",
       "    </tr>\n",
       "    <tr>\n",
       "      <th>18277</th>\n",
       "      <td>right_only</td>\n",
       "      <td>kisaawe kikadde</td>\n",
       "      <td>9730</td>\n",
       "    </tr>\n",
       "    <tr>\n",
       "      <th>...</th>\n",
       "      <td>...</td>\n",
       "      <td>...</td>\n",
       "      <td>...</td>\n",
       "    </tr>\n",
       "    <tr>\n",
       "      <th>8138</th>\n",
       "      <td>left_only</td>\n",
       "      <td>mirambi t</td>\n",
       "      <td>0</td>\n",
       "    </tr>\n",
       "    <tr>\n",
       "      <th>8137</th>\n",
       "      <td>left_only</td>\n",
       "      <td>mirambi s</td>\n",
       "      <td>0</td>\n",
       "    </tr>\n",
       "    <tr>\n",
       "      <th>8136</th>\n",
       "      <td>left_only</td>\n",
       "      <td>mirambi primary school</td>\n",
       "      <td>0</td>\n",
       "    </tr>\n",
       "    <tr>\n",
       "      <th>8135</th>\n",
       "      <td>left_only</td>\n",
       "      <td>mirambi pr</td>\n",
       "      <td>0</td>\n",
       "    </tr>\n",
       "    <tr>\n",
       "      <th>36629</th>\n",
       "      <td>both</td>\n",
       "      <td>zziru pri</td>\n",
       "      <td>0</td>\n",
       "    </tr>\n",
       "  </tbody>\n",
       "</table>\n",
       "<p>36630 rows × 3 columns</p>\n",
       "</div>"
      ],
      "text/plain": [
       "           _merge         polling_station     num\n",
       "23901  right_only                      st  194843\n",
       "24009  right_only                      te   25179\n",
       "24409  right_only                    zone   13176\n",
       "19479  right_only        lc meeting place   11536\n",
       "18277  right_only         kisaawe kikadde    9730\n",
       "...           ...                     ...     ...\n",
       "8138    left_only               mirambi t       0\n",
       "8137    left_only               mirambi s       0\n",
       "8136    left_only  mirambi primary school       0\n",
       "8135    left_only              mirambi pr       0\n",
       "36629        both               zziru pri       0\n",
       "\n",
       "[36630 rows x 3 columns]"
      ]
     },
     "execution_count": 21,
     "metadata": {},
     "output_type": "execute_result"
    }
   ],
   "source": [
    "# Find names of unsuccessfully matched stations from names dataset, sorted by population\n",
    "merged_df.query(\"_merge == 'right_only'\").groupby([\"_merge\", \"polling_station\"]).size().reset_index(name='num').sort_values(['num'], ascending=False)"
   ]
  },
  {
   "cell_type": "code",
   "execution_count": 22,
   "id": "88baf385",
   "metadata": {
    "scrolled": true
   },
   "outputs": [
    {
     "data": {
      "text/html": [
       "<div>\n",
       "<style scoped>\n",
       "    .dataframe tbody tr th:only-of-type {\n",
       "        vertical-align: middle;\n",
       "    }\n",
       "\n",
       "    .dataframe tbody tr th {\n",
       "        vertical-align: top;\n",
       "    }\n",
       "\n",
       "    .dataframe thead th {\n",
       "        text-align: right;\n",
       "    }\n",
       "</style>\n",
       "<table border=\"1\" class=\"dataframe\">\n",
       "  <thead>\n",
       "    <tr style=\"text-align: right;\">\n",
       "      <th></th>\n",
       "      <th>_merge</th>\n",
       "      <th>PS_name</th>\n",
       "      <th>num</th>\n",
       "    </tr>\n",
       "  </thead>\n",
       "  <tbody>\n",
       "    <tr>\n",
       "      <th>23887</th>\n",
       "      <td>both</td>\n",
       "      <td>kasambya</td>\n",
       "      <td>70128</td>\n",
       "    </tr>\n",
       "    <tr>\n",
       "      <th>23442</th>\n",
       "      <td>both</td>\n",
       "      <td>kalagala</td>\n",
       "      <td>49496</td>\n",
       "    </tr>\n",
       "    <tr>\n",
       "      <th>21374</th>\n",
       "      <td>both</td>\n",
       "      <td>bukasa</td>\n",
       "      <td>26260</td>\n",
       "    </tr>\n",
       "    <tr>\n",
       "      <th>24749</th>\n",
       "      <td>both</td>\n",
       "      <td>kinoni</td>\n",
       "      <td>22141</td>\n",
       "    </tr>\n",
       "    <tr>\n",
       "      <th>27686</th>\n",
       "      <td>both</td>\n",
       "      <td>new apostolic church</td>\n",
       "      <td>21128</td>\n",
       "    </tr>\n",
       "    <tr>\n",
       "      <th>...</th>\n",
       "      <td>...</td>\n",
       "      <td>...</td>\n",
       "      <td>...</td>\n",
       "    </tr>\n",
       "    <tr>\n",
       "      <th>9975</th>\n",
       "      <td>left_only</td>\n",
       "      <td>ziru muto</td>\n",
       "      <td>0</td>\n",
       "    </tr>\n",
       "    <tr>\n",
       "      <th>9974</th>\n",
       "      <td>left_only</td>\n",
       "      <td>zingoola</td>\n",
       "      <td>0</td>\n",
       "    </tr>\n",
       "    <tr>\n",
       "      <th>9973</th>\n",
       "      <td>left_only</td>\n",
       "      <td>zinga island</td>\n",
       "      <td>0</td>\n",
       "    </tr>\n",
       "    <tr>\n",
       "      <th>9972</th>\n",
       "      <td>left_only</td>\n",
       "      <td>zinga</td>\n",
       "      <td>0</td>\n",
       "    </tr>\n",
       "    <tr>\n",
       "      <th>14968</th>\n",
       "      <td>right_only</td>\n",
       "      <td>kishuro iv</td>\n",
       "      <td>0</td>\n",
       "    </tr>\n",
       "  </tbody>\n",
       "</table>\n",
       "<p>29937 rows × 3 columns</p>\n",
       "</div>"
      ],
      "text/plain": [
       "           _merge               PS_name    num\n",
       "23887        both              kasambya  70128\n",
       "23442        both              kalagala  49496\n",
       "21374        both                bukasa  26260\n",
       "24749        both                kinoni  22141\n",
       "27686        both  new apostolic church  21128\n",
       "...           ...                   ...    ...\n",
       "9975    left_only             ziru muto      0\n",
       "9974    left_only              zingoola      0\n",
       "9973    left_only          zinga island      0\n",
       "9972    left_only                 zinga      0\n",
       "14968  right_only            kishuro iv      0\n",
       "\n",
       "[29937 rows x 3 columns]"
      ]
     },
     "execution_count": 22,
     "metadata": {},
     "output_type": "execute_result"
    }
   ],
   "source": [
    "# Find names of successfully matched stations, sorted by population\n",
    "merged_df.query(\"_merge == 'both'\").groupby([\"_merge\", \"PS_name\"]).size().reset_index(name='num').sort_values(['num'], ascending=False)"
   ]
  },
  {
   "cell_type": "code",
   "execution_count": 26,
   "id": "226d0e49",
   "metadata": {},
   "outputs": [
    {
     "name": "stdout",
     "output_type": "stream",
     "text": [
      "_merge      polling_station       \n",
      "right_only  st                        194843\n",
      "            te                         25179\n",
      "            zone                       13176\n",
      "            lc meeting place           11536\n",
      "            kisaawe kikadde             9730\n",
      "                                       ...  \n",
      "left_only   mirambi t                      0\n",
      "            mirambi s                      0\n",
      "            mirambi primary school         0\n",
      "            mirambi pr                     0\n",
      "both        zziru pri                      0\n",
      "Name: polling_station, Length: 36630, dtype: int64\n",
      "8959014\n"
     ]
    }
   ],
   "source": [
    "unmerge_people = merged_df.query(\"_merge == 'right_only'\").groupby([\"_merge\", \"polling_station\"])[\"polling_station\"].count()\n",
    "print(unmerge_people.sort_values(ascending = False))\n",
    "print(unmerge_people.sum())"
   ]
  },
  {
   "cell_type": "code",
   "execution_count": 24,
   "id": "bd19886a",
   "metadata": {},
   "outputs": [
    {
     "data": {
      "text/plain": [
       "_merge      d_names \n",
       "right_only  Wakiso      49247\n",
       "            Kampala     32130\n",
       "            Tororo       6790\n",
       "            Masaka       6580\n",
       "            Jinja        5655\n",
       "                        ...  \n",
       "left_only   Luuka           0\n",
       "            Lira            0\n",
       "            Lamwo           0\n",
       "            Kyenjojo        0\n",
       "both        Zombo           0\n",
       "Name: d_names, Length: 210, dtype: int64"
      ]
     },
     "execution_count": 24,
     "metadata": {},
     "output_type": "execute_result"
    }
   ],
   "source": [
    "merged_df.query(\"_merge == 'right_only' & polling_station == 'st'\").groupby([\"_merge\", \"d_names\"])[\"d_names\"].count().sort_values(ascending = False)"
   ]
  },
  {
   "cell_type": "code",
   "execution_count": 25,
   "id": "a62560d4",
   "metadata": {},
   "outputs": [
    {
     "data": {
      "text/plain": [
       "_merge      d_names\n",
       "right_only  Kampala    13176\n",
       "left_only   Kampala        0\n",
       "both        Kampala        0\n",
       "Name: d_names, dtype: int64"
      ]
     },
     "execution_count": 25,
     "metadata": {},
     "output_type": "execute_result"
    }
   ],
   "source": [
    "merged_df.query(\"_merge == 'right_only' & polling_station == 'zone'\").groupby([\"_merge\", \"d_names\"])[\"d_names\"].count().sort_values(ascending = False)"
   ]
  },
  {
   "cell_type": "markdown",
   "id": "83f06624",
   "metadata": {},
   "source": [
    "## Improving the Merge (String Manipulation, v1)"
   ]
  },
  {
   "cell_type": "code",
   "execution_count": 3,
   "id": "efbf4f04",
   "metadata": {},
   "outputs": [],
   "source": [
    "# Removing special characters and all subsequent characters but including slashes\n",
    "polls1['PS_name'] = polls1['PS_name'].str.split('[^\\w\\s\\/]').str[0]"
   ]
  },
  {
   "cell_type": "code",
   "execution_count": 4,
   "id": "ecba8bc7",
   "metadata": {},
   "outputs": [],
   "source": [
    "# Stripping whitespace\n",
    "polls1['PS_name'] = polls1['PS_name'].str.strip()"
   ]
  },
  {
   "cell_type": "code",
   "execution_count": 5,
   "id": "480efc84",
   "metadata": {},
   "outputs": [],
   "source": [
    "# Lowering case\n",
    "polls1['PS_name'] = polls1['PS_name'].str.lower()"
   ]
  },
  {
   "cell_type": "code",
   "execution_count": 6,
   "id": "30e8ae6c",
   "metadata": {},
   "outputs": [
    {
     "name": "stderr",
     "output_type": "stream",
     "text": [
      "/var/folders/33/qp5k0v8128136rvjkr63g0x00000gn/T/ipykernel_55255/3256275680.py:1: FutureWarning: The default value of regex will change from True to False in a future version.\n",
      "  polls1['PS_name'] = polls1['PS_name'].str.replace('\\s{2,}', ' ')\n"
     ]
    }
   ],
   "source": [
    "# Removing excessive whitespace between characters\n",
    "polls1['PS_name'] = polls1['PS_name'].str.replace('\\s{2,}', ' ')"
   ]
  },
  {
   "cell_type": "code",
   "execution_count": 7,
   "id": "8daf53a1",
   "metadata": {},
   "outputs": [],
   "source": [
    "# Removing special characters and all subsequent characters but including slashes\n",
    "names1['polling_station'] = names1['polling_station'].str.split('[^\\w\\s\\/]').str[0]"
   ]
  },
  {
   "cell_type": "code",
   "execution_count": 8,
   "id": "82ee3f6f",
   "metadata": {},
   "outputs": [],
   "source": [
    "# Stripping whitespace\n",
    "names1['polling_station'] = names1['polling_station'].str.strip()"
   ]
  },
  {
   "cell_type": "code",
   "execution_count": 9,
   "id": "09eba1ca",
   "metadata": {},
   "outputs": [],
   "source": [
    "# Lowering case\n",
    "names1['polling_station'] = names1['polling_station'].str.lower()"
   ]
  },
  {
   "cell_type": "code",
   "execution_count": 10,
   "id": "8ee16311",
   "metadata": {},
   "outputs": [
    {
     "name": "stderr",
     "output_type": "stream",
     "text": [
      "/var/folders/33/qp5k0v8128136rvjkr63g0x00000gn/T/ipykernel_55255/1799689514.py:1: FutureWarning: The default value of regex will change from True to False in a future version.\n",
      "  names1['polling_station'] = names1['polling_station'].str.replace('\\s{2,}', ' ')\n"
     ]
    }
   ],
   "source": [
    "# Removing excessive whitespace between characters\n",
    "names1['polling_station'] = names1['polling_station'].str.replace('\\s{2,}', ' ')"
   ]
  },
  {
   "cell_type": "code",
   "execution_count": 11,
   "id": "2d522fba",
   "metadata": {},
   "outputs": [],
   "source": [
    "# Merge polling station and voter dataframes\n",
    "merged_df1 = pd.merge(polls1, names1, left_on = \"PS_name\", right_on = \"polling_station\", how = \"outer\", indicator = True)"
   ]
  },
  {
   "cell_type": "code",
   "execution_count": 12,
   "id": "26c76586",
   "metadata": {},
   "outputs": [
    {
     "name": "stdout",
     "output_type": "stream",
     "text": [
      "_merge      polling_station        \n",
      "right_only  zone                       13176\n",
      "            maganjo b c                 5842\n",
      "            maganjo a c                 4916\n",
      "            kyebando umea kisaawe p     4060\n",
      "            kooki                       3992\n",
      "                                       ...  \n",
      "left_only   migongo pri                    0\n",
      "            migyera pri sch                0\n",
      "            migyerebiri pri sch            0\n",
      "            mijale primary school          0\n",
      "both        zziru pri                      0\n",
      "Name: polling_station, Length: 24474, dtype: int64\n",
      "4965502\n"
     ]
    }
   ],
   "source": [
    "# Finding the total number of unmerged voters and the most problematic stations\n",
    "unmerge_people1 = merged_df1.query(\"_merge == 'right_only'\").groupby([\"_merge\", \"polling_station\"])[\"polling_station\"].count()\n",
    "print(unmerge_people1.sort_values(ascending = False))\n",
    "print(unmerge_people1.sum())"
   ]
  },
  {
   "cell_type": "markdown",
   "id": "4773449a",
   "metadata": {},
   "source": [
    "## Improving the Merge (String Manipulation, v2)"
   ]
  },
  {
   "cell_type": "code",
   "execution_count": 2,
   "id": "fc42a742",
   "metadata": {},
   "outputs": [],
   "source": [
    "polls2 = gpd.read_feather(\"data/polling_station_coords.feather\")"
   ]
  },
  {
   "cell_type": "code",
   "execution_count": 3,
   "id": "fe0150f0",
   "metadata": {},
   "outputs": [],
   "source": [
    "names2 = pd.read_feather(\"data/names_with_kingdoms.feather\")"
   ]
  },
  {
   "cell_type": "code",
   "execution_count": 4,
   "id": "fbaefe8a",
   "metadata": {},
   "outputs": [],
   "source": [
    "# Removing special characters and all subsequent characters but including slashes\n",
    "polls2['PS_name'] = polls2['PS_name'].str.split('[^\\w\\s\\/]').str[0]"
   ]
  },
  {
   "cell_type": "code",
   "execution_count": 5,
   "id": "897280e7",
   "metadata": {},
   "outputs": [],
   "source": [
    "# Removing special characters and all subsequent characters but including slashes\n",
    "names2['polling_station'] = names2['polling_station'].str.split('[^\\w\\s\\/]').str[0]"
   ]
  },
  {
   "cell_type": "code",
   "execution_count": 6,
   "id": "d6c6a9e5",
   "metadata": {},
   "outputs": [],
   "source": [
    "# Stripping whitespace\n",
    "polls2['PS_name'] = polls2['PS_name'].str.strip()"
   ]
  },
  {
   "cell_type": "code",
   "execution_count": 7,
   "id": "414cd46e",
   "metadata": {},
   "outputs": [],
   "source": [
    "# Lowering case\n",
    "polls2['PS_name'] = polls2['PS_name'].str.lower()"
   ]
  },
  {
   "cell_type": "code",
   "execution_count": 8,
   "id": "22ecd18e",
   "metadata": {},
   "outputs": [
    {
     "name": "stderr",
     "output_type": "stream",
     "text": [
      "/var/folders/33/qp5k0v8128136rvjkr63g0x00000gn/T/ipykernel_57864/2038811802.py:1: FutureWarning: The default value of regex will change from True to False in a future version.\n",
      "  polls2['PS_name'] = polls2['PS_name'].str.replace('\\s{2,}', ' ')\n"
     ]
    }
   ],
   "source": [
    "# Removing excessive whitespace between characters\n",
    "polls2['PS_name'] = polls2['PS_name'].str.replace('\\s{2,}', ' ')"
   ]
  },
  {
   "cell_type": "code",
   "execution_count": 9,
   "id": "bbd3741d",
   "metadata": {},
   "outputs": [],
   "source": [
    "# Stripping whitespace\n",
    "names2['polling_station'] = names2['polling_station'].str.strip()"
   ]
  },
  {
   "cell_type": "code",
   "execution_count": 10,
   "id": "886523dd",
   "metadata": {},
   "outputs": [],
   "source": [
    "# Lowering case\n",
    "names2['polling_station'] = names2['polling_station'].str.lower()"
   ]
  },
  {
   "cell_type": "code",
   "execution_count": 11,
   "id": "c7fea47b",
   "metadata": {},
   "outputs": [
    {
     "name": "stderr",
     "output_type": "stream",
     "text": [
      "/var/folders/33/qp5k0v8128136rvjkr63g0x00000gn/T/ipykernel_57864/1975684153.py:1: FutureWarning: The default value of regex will change from True to False in a future version.\n",
      "  names2['polling_station'] = names2['polling_station'].str.replace('\\s{2,}', ' ')\n"
     ]
    }
   ],
   "source": [
    "# Removing excessive whitespace between characters\n",
    "names2['polling_station'] = names2['polling_station'].str.replace('\\s{2,}', ' ')"
   ]
  },
  {
   "cell_type": "code",
   "execution_count": 12,
   "id": "7124b572",
   "metadata": {},
   "outputs": [],
   "source": [
    "# Merge polling station and voter dataframes\n",
    "merged_df2 = pd.merge(polls2, names2, left_on = \"PS_name\", right_on = \"polling_station\", how = \"outer\", indicator = True)"
   ]
  },
  {
   "cell_type": "code",
   "execution_count": 13,
   "id": "17257d31",
   "metadata": {},
   "outputs": [
    {
     "name": "stdout",
     "output_type": "stream",
     "text": [
      "_merge      polling_station        \n",
      "right_only  zone                       13176\n",
      "            maganjo b c                 5842\n",
      "            maganjo a c                 4916\n",
      "            kyebando umea kisaawe p     4060\n",
      "            kooki                       3992\n",
      "                                       ...  \n",
      "left_only   migongo pri                    0\n",
      "            migyera pri sch                0\n",
      "            migyerebiri pri sch            0\n",
      "            mijale primary school          0\n",
      "both        zziru pri                      0\n",
      "Name: polling_station, Length: 24474, dtype: int64\n",
      "4965502\n"
     ]
    }
   ],
   "source": [
    "# Finding the total number of unmerged voters and the most problematic stations\n",
    "unmerge_people2 = merged_df2.query(\"_merge == 'right_only'\").groupby([\"_merge\", \"polling_station\"])[\"polling_station\"].count()\n",
    "print(unmerge_people2.sort_values(ascending = False))\n",
    "print(unmerge_people2.sum())"
   ]
  },
  {
   "cell_type": "code",
   "execution_count": 14,
   "id": "8c98d156",
   "metadata": {},
   "outputs": [],
   "source": [
    "# Select left_only or both merged rows\n",
    "merged_df2 = merged_df2.query(\"_merge != 'right_only'\")"
   ]
  },
  {
   "cell_type": "code",
   "execution_count": 15,
   "id": "2b0287a4",
   "metadata": {},
   "outputs": [],
   "source": [
    "# Select right-only merged rows\n",
    "right_df = merged_df2.query(\"_merge == 'right_only'\")"
   ]
  },
  {
   "cell_type": "code",
   "execution_count": 16,
   "id": "a44c179f",
   "metadata": {},
   "outputs": [],
   "source": [
    "# Removing special characters and all subsequent characters\n",
    "merged_df2['PS_name'] = merged_df2['PS_name'].str.split('[^\\w\\s]').str[0]"
   ]
  },
  {
   "cell_type": "code",
   "execution_count": 17,
   "id": "0ad0cff7",
   "metadata": {},
   "outputs": [],
   "source": [
    "# Stripping whitespace\n",
    "merged_df2['PS_name'] = merged_df2['PS_name'].str.strip()"
   ]
  },
  {
   "cell_type": "code",
   "execution_count": 18,
   "id": "559257ac",
   "metadata": {},
   "outputs": [],
   "source": [
    "# Removing special characters and all subsequent characters\n",
    "right_df['polling_station'] = right_df['polling_station'].str.split('[^\\w\\s]').str[0]"
   ]
  },
  {
   "cell_type": "code",
   "execution_count": 19,
   "id": "4b180dc6",
   "metadata": {},
   "outputs": [],
   "source": [
    "# Stripping whitespace\n",
    "right_df['polling_station'] = right_df['polling_station'].str.strip()"
   ]
  },
  {
   "cell_type": "code",
   "execution_count": 20,
   "id": "b89d3385",
   "metadata": {},
   "outputs": [],
   "source": [
    "# Removing duplicated \"on\" and \"indicator\" columns to prepare for second merge\n",
    "merged_df2 = merged_df2.drop('polling_station', axis=1)\n",
    "merged_df2 = merged_df2.drop('_merge', axis=1)"
   ]
  },
  {
   "cell_type": "code",
   "execution_count": 21,
   "id": "117f1d0a",
   "metadata": {},
   "outputs": [],
   "source": [
    "# Removing duplicated \"on\" and \"indicator\" columns to prepare for second merge\n",
    "right_df = right_df.drop('PS_name', axis=1)\n",
    "right_df = right_df.drop('_merge', axis=1)"
   ]
  },
  {
   "cell_type": "code",
   "execution_count": null,
   "id": "c0ef0597",
   "metadata": {},
   "outputs": [],
   "source": [
    "# Merging polling station and voter dataframes\n",
    "merged_df2 = pd.merge(merged_df2, right_df, left_on = \"PS_name\", right_on = \"polling_station\", how = \"outer\", indicator = True)"
   ]
  },
  {
   "cell_type": "code",
   "execution_count": null,
   "id": "b44ff345",
   "metadata": {},
   "outputs": [],
   "source": [
    "# Finding the total number of unmerged voters and the most problematic stations\n",
    "unmerge_people2 = merged_df2.query(\"_merge == 'right_only'\").groupby([\"_merge\", \"polling_station\"])[\"polling_station\"].count()\n",
    "print(unmerge_people2.sort_values(ascending = False))\n",
    "print(unmerge_people2.sum())"
   ]
  },
  {
   "cell_type": "markdown",
   "id": "ee029802",
   "metadata": {},
   "source": [
    "## Improving the Merge (String Manipulation, v3)"
   ]
  },
  {
   "cell_type": "code",
   "execution_count": 2,
   "id": "c48c1801",
   "metadata": {},
   "outputs": [],
   "source": [
    "polls3 = gpd.read_feather(\"data/polling_station_coords.feather\")"
   ]
  },
  {
   "cell_type": "code",
   "execution_count": 3,
   "id": "e8ccbe49",
   "metadata": {},
   "outputs": [],
   "source": [
    "names3 = pd.read_feather(\"data/names_with_kingdoms.feather\")"
   ]
  },
  {
   "cell_type": "code",
   "execution_count": 4,
   "id": "94177c2e",
   "metadata": {},
   "outputs": [],
   "source": [
    "# Lowering case\n",
    "polls3['PS_name'] = polls3['PS_name'].str.lower()"
   ]
  },
  {
   "cell_type": "code",
   "execution_count": 5,
   "id": "1d17bb02",
   "metadata": {},
   "outputs": [],
   "source": [
    "# Removing the \"/\" in \"p/s\"\n",
    "polls3['PS_name'] = polls3['PS_name'].str.replace('p/s', 'ps')"
   ]
  },
  {
   "cell_type": "code",
   "execution_count": 6,
   "id": "55f96a15",
   "metadata": {},
   "outputs": [],
   "source": [
    "# Removing special characters and all subsequent characters but including slashes\n",
    "polls3['PS_name'] = polls3['PS_name'].str.split('[^\\w\\s\\/]').str[0]"
   ]
  },
  {
   "cell_type": "code",
   "execution_count": 7,
   "id": "9e50d787",
   "metadata": {},
   "outputs": [],
   "source": [
    "# Stripping whitespace\n",
    "polls3['PS_name'] = polls3['PS_name'].str.strip()"
   ]
  },
  {
   "cell_type": "code",
   "execution_count": null,
   "id": "0475e3e8",
   "metadata": {},
   "outputs": [],
   "source": [
    "# Removing excessive whitespace between characters\n",
    "polls3['PS_name'] = polls3['PS_name'].str.replace('\\s{2,}', ' ')"
   ]
  },
  {
   "cell_type": "code",
   "execution_count": 8,
   "id": "c097c2d0",
   "metadata": {},
   "outputs": [],
   "source": [
    "# Lowering case\n",
    "names3['polling_station'] = names3['polling_station'].str.lower()"
   ]
  },
  {
   "cell_type": "code",
   "execution_count": 10,
   "id": "6f5c27c8",
   "metadata": {
    "scrolled": true
   },
   "outputs": [],
   "source": [
    "# Removing the \"/\" in \"p/s\" \n",
    "names3['polling_station'] = names3['polling_station'].str.replace('p/s', 'ps')"
   ]
  },
  {
   "cell_type": "code",
   "execution_count": 11,
   "id": "f10be738",
   "metadata": {},
   "outputs": [],
   "source": [
    "# Removing special characters and all subsequent characters but including slashes\n",
    "names3['polling_station'] = names3['polling_station'].str.split('[^\\w\\s\\/]').str[0]"
   ]
  },
  {
   "cell_type": "code",
   "execution_count": 12,
   "id": "95a27aa8",
   "metadata": {},
   "outputs": [],
   "source": [
    "# Stripping whitespace\n",
    "names3['polling_station'] = names3['polling_station'].str.strip()"
   ]
  },
  {
   "cell_type": "code",
   "execution_count": null,
   "id": "f7e154af",
   "metadata": {},
   "outputs": [],
   "source": [
    "# Removing excessive whitespace between characters\n",
    "names3['polling_station'] = names3['polling_station'].str.replace('\\s{2,}', ' ')"
   ]
  },
  {
   "cell_type": "code",
   "execution_count": 13,
   "id": "af531550",
   "metadata": {},
   "outputs": [],
   "source": [
    "# Merge polling station and voter dataframes\n",
    "merged_df3 = pd.merge(polls3, names3, left_on = \"PS_name\", right_on = \"polling_station\", how = \"outer\", indicator = True)"
   ]
  },
  {
   "cell_type": "code",
   "execution_count": 14,
   "id": "ae106393",
   "metadata": {
    "scrolled": true
   },
   "outputs": [
    {
     "name": "stdout",
     "output_type": "stream",
     "text": [
      "_merge      polling_station        \n",
      "right_only  zone                       13176\n",
      "            maganjo b c                 5842\n",
      "            maganjo a  c                4916\n",
      "            kyebando umea kisaawe p     4060\n",
      "            kooki                       3992\n",
      "                                       ...  \n",
      "left_only   mijjunju p                     0\n",
      "            mijuma t                       0\n",
      "            mikera trading centre          0\n",
      "            mikindo primary school         0\n",
      "both        zziru pri                      0\n",
      "Name: polling_station, Length: 24879, dtype: int64\n",
      "5035341\n"
     ]
    }
   ],
   "source": [
    "# Finding the total number of unmerged voters and the most problematic stations\n",
    "unmerge_people3 = merged_df3.query(\"_merge == 'right_only'\").groupby([\"_merge\", \"polling_station\"])[\"polling_station\"].count()\n",
    "print(unmerge_people3.sort_values(ascending = False))\n",
    "print(unmerge_people3.sum())"
   ]
  },
  {
   "cell_type": "markdown",
   "id": "1392786a",
   "metadata": {},
   "source": [
    "## Improving the Merge (String Manipulation, v4)"
   ]
  },
  {
   "cell_type": "code",
   "execution_count": 2,
   "id": "f0167df9",
   "metadata": {},
   "outputs": [],
   "source": [
    "polls4 = gpd.read_feather(\"data/polling_station_coords.feather\")"
   ]
  },
  {
   "cell_type": "code",
   "execution_count": 3,
   "id": "7211d9c1",
   "metadata": {},
   "outputs": [],
   "source": [
    "names4 = pd.read_feather(\"data/names_with_kingdoms.feather\")"
   ]
  },
  {
   "cell_type": "code",
   "execution_count": 6,
   "id": "70decca9",
   "metadata": {},
   "outputs": [],
   "source": [
    "# Lowering case\n",
    "polls4['PS_name'] = polls4['PS_name'].str.lower()"
   ]
  },
  {
   "cell_type": "code",
   "execution_count": 7,
   "id": "f72e10a5",
   "metadata": {},
   "outputs": [],
   "source": [
    "# Removing all characters after \"p/s\"\n",
    "polls4['PS_name'] = polls4['PS_name'].str.split('p/s').str[0]"
   ]
  },
  {
   "cell_type": "code",
   "execution_count": 8,
   "id": "6f452761",
   "metadata": {},
   "outputs": [],
   "source": [
    "# Removing special characters and all subsequent characters but including slashes\n",
    "polls4['PS_name'] = polls4['PS_name'].str.split('[^\\w\\s]').str[0]"
   ]
  },
  {
   "cell_type": "code",
   "execution_count": 9,
   "id": "d43da477",
   "metadata": {},
   "outputs": [],
   "source": [
    "# Stripping whitespace\n",
    "polls4['PS_name'] = polls4['PS_name'].str.strip()"
   ]
  },
  {
   "cell_type": "code",
   "execution_count": 10,
   "id": "b35d042a",
   "metadata": {},
   "outputs": [
    {
     "name": "stderr",
     "output_type": "stream",
     "text": [
      "/var/folders/33/qp5k0v8128136rvjkr63g0x00000gn/T/ipykernel_60892/3208926429.py:1: FutureWarning: The default value of regex will change from True to False in a future version.\n",
      "  polls4['PS_name'] = polls4['PS_name'].str.replace('\\s{2,}', ' ')\n"
     ]
    }
   ],
   "source": [
    "# Removing excessive whitespace between characters\n",
    "polls4['PS_name'] = polls4['PS_name'].str.replace('\\s{2,}', ' ')"
   ]
  },
  {
   "cell_type": "code",
   "execution_count": 11,
   "id": "9a77bc47",
   "metadata": {},
   "outputs": [],
   "source": [
    "# Lowering case\n",
    "names4['polling_station'] = names4['polling_station'].str.lower()"
   ]
  },
  {
   "cell_type": "code",
   "execution_count": 12,
   "id": "594101d6",
   "metadata": {
    "scrolled": true
   },
   "outputs": [],
   "source": [
    "# Removing all characters after \"p/s\"\n",
    "polls4['PS_name'] = polls4['PS_name'].str.split('p/s').str[0]"
   ]
  },
  {
   "cell_type": "code",
   "execution_count": 13,
   "id": "0c8aa172",
   "metadata": {},
   "outputs": [],
   "source": [
    "# Removing special characters and all subsequent characters but including slashes\n",
    "names4['polling_station'] = names4['polling_station'].str.split('[^\\w\\s]').str[0]"
   ]
  },
  {
   "cell_type": "code",
   "execution_count": 14,
   "id": "69d4c636",
   "metadata": {},
   "outputs": [],
   "source": [
    "# Stripping whitespace\n",
    "names4['polling_station'] = names4['polling_station'].str.strip()"
   ]
  },
  {
   "cell_type": "code",
   "execution_count": 15,
   "id": "7f0af7eb",
   "metadata": {},
   "outputs": [
    {
     "name": "stderr",
     "output_type": "stream",
     "text": [
      "/var/folders/33/qp5k0v8128136rvjkr63g0x00000gn/T/ipykernel_60892/482096843.py:1: FutureWarning: The default value of regex will change from True to False in a future version.\n",
      "  names4['polling_station'] = names4['polling_station'].str.replace('\\s{2,}', ' ')\n"
     ]
    }
   ],
   "source": [
    "# Removing excessive whitespace between characters\n",
    "names4['polling_station'] = names4['polling_station'].str.replace('\\s{2,}', ' ')"
   ]
  },
  {
   "cell_type": "code",
   "execution_count": 16,
   "id": "5f9aee05",
   "metadata": {},
   "outputs": [],
   "source": [
    "# Merge polling station and voter dataframes\n",
    "merged_df4 = pd.merge(polls4, names4, left_on = \"PS_name\", right_on = \"polling_station\", how = \"outer\", indicator = True)"
   ]
  },
  {
   "cell_type": "code",
   "execution_count": 17,
   "id": "9984bab1",
   "metadata": {
    "scrolled": true
   },
   "outputs": [
    {
     "name": "stdout",
     "output_type": "stream",
     "text": [
      "_merge      polling_station        \n",
      "right_only  zone                       13176\n",
      "            kyebando umea kisaawe p     4060\n",
      "            kashenyi pri sch            3430\n",
      "            kiteezi disabled p          3123\n",
      "            kireka umea p               3096\n",
      "                                       ...  \n",
      "left_only   minani pr school               0\n",
      "            miniki primary school          0\n",
      "            minja p                        0\n",
      "            mirama pri sch                 0\n",
      "both        zziru pri                      0\n",
      "Name: polling_station, Length: 20682, dtype: int64\n",
      "4186953\n"
     ]
    }
   ],
   "source": [
    "# Finding the total number of unmerged voters and the most problematic stations\n",
    "unmerge_people4 = merged_df4.query(\"_merge == 'right_only'\").groupby([\"_merge\", \"polling_station\"])[\"polling_station\"].count()\n",
    "print(unmerge_people4.sort_values(ascending = False))\n",
    "print(unmerge_people4.sum())"
   ]
  },
  {
   "cell_type": "markdown",
   "id": "64a45024",
   "metadata": {},
   "source": [
    "## Improving the Merge (best version)"
   ]
  },
  {
   "cell_type": "code",
   "execution_count": 2,
   "id": "4d285f1d",
   "metadata": {},
   "outputs": [],
   "source": [
    "polls5 = gpd.read_feather(\"data/polling_station_coords.feather\")"
   ]
  },
  {
   "cell_type": "code",
   "execution_count": 3,
   "id": "6b3f2ca3",
   "metadata": {},
   "outputs": [],
   "source": [
    "names5 = pd.read_feather(\"data/names_with_kingdoms.feather\")"
   ]
  },
  {
   "cell_type": "code",
   "execution_count": 4,
   "id": "960cc0de",
   "metadata": {},
   "outputs": [],
   "source": [
    "# Removing special characters and all subsequent characters\n",
    "polls5['PS_name'] = polls5['PS_name'].str.split('[^\\w\\s]').str[0]"
   ]
  },
  {
   "cell_type": "code",
   "execution_count": 5,
   "id": "61277dfb",
   "metadata": {},
   "outputs": [],
   "source": [
    "# Stripping whitespace\n",
    "polls5['PS_name'] = polls5['PS_name'].str.strip()"
   ]
  },
  {
   "cell_type": "code",
   "execution_count": 6,
   "id": "87926b92",
   "metadata": {},
   "outputs": [],
   "source": [
    "# Lowering case\n",
    "polls5['PS_name'] = polls5['PS_name'].str.lower()"
   ]
  },
  {
   "cell_type": "code",
   "execution_count": 7,
   "id": "4ec50be1",
   "metadata": {},
   "outputs": [],
   "source": [
    "# Removing special characters and all subsequent characters\n",
    "names5['polling_station'] = names5['polling_station'].str.split('[^\\w\\s]').str[0]"
   ]
  },
  {
   "cell_type": "code",
   "execution_count": 8,
   "id": "807562ee",
   "metadata": {},
   "outputs": [],
   "source": [
    "# Stripping whitespace\n",
    "names5['polling_station'] = names5['polling_station'].str.strip()"
   ]
  },
  {
   "cell_type": "code",
   "execution_count": 9,
   "id": "50168c7c",
   "metadata": {},
   "outputs": [],
   "source": [
    "# Lowering case\n",
    "names5['polling_station'] = names5['polling_station'].str.lower()"
   ]
  },
  {
   "cell_type": "code",
   "execution_count": 10,
   "id": "eedf1756",
   "metadata": {},
   "outputs": [],
   "source": [
    "# Merge polling station and voter dataframes\n",
    "merged_df5 = pd.merge(polls5, names5, left_on = \"PS_name\", right_on = \"polling_station\", how = \"outer\", indicator = True)"
   ]
  },
  {
   "cell_type": "code",
   "execution_count": 11,
   "id": "b6f413d7",
   "metadata": {},
   "outputs": [
    {
     "name": "stdout",
     "output_type": "stream",
     "text": [
      "_merge      polling_station        \n",
      "right_only  zone                       13176\n",
      "            kooki                       3992\n",
      "            kashenyi pri sch            3430\n",
      "            ntungamo pri sch            2900\n",
      "            seguku zone                 2869\n",
      "                                       ...  \n",
      "left_only   mitimikalu pri                 0\n",
      "            mitooma central pri sch        0\n",
      "            mitooma pri sch                0\n",
      "            mituba trading centre          0\n",
      "both        zziru pri                      0\n",
      "Name: polling_station, Length: 16611, dtype: int64\n",
      "3275652\n"
     ]
    }
   ],
   "source": [
    "# Finding the total number of unmerged voters and the most problematic stations\n",
    "unmerge_people5 = merged_df5.query(\"_merge == 'right_only'\").groupby([\"_merge\", \"polling_station\"])[\"polling_station\"].count()\n",
    "print(unmerge_people5.sort_values(ascending = False))\n",
    "print(unmerge_people5.sum())"
   ]
  },
  {
   "cell_type": "markdown",
   "id": "04484b3e",
   "metadata": {},
   "source": [
    "## Checking on the New R^2"
   ]
  },
  {
   "cell_type": "code",
   "execution_count": 12,
   "id": "bebd7c89",
   "metadata": {},
   "outputs": [],
   "source": [
    "# Identify successfully merged voters\n",
    "merged_df5 = merged_df5[merged_df5[\"_merge\"] == \"both\"]"
   ]
  },
  {
   "cell_type": "code",
   "execution_count": null,
   "id": "3d4cd6bd",
   "metadata": {},
   "outputs": [
    {
     "name": "stderr",
     "output_type": "stream",
     "text": [
      "/opt/anaconda3/lib/python3.9/site-packages/IPython/core/interactiveshell.py:3400: FutureWarning: The `op` parameter is deprecated and will be removed in a future release. Please use the `predicate` parameter instead.\n",
      "  if await self.run_code(code, result, async_=asy):\n",
      "/var/folders/33/qp5k0v8128136rvjkr63g0x00000gn/T/ipykernel_9957/121740815.py:2: UserWarning: CRS mismatch between the CRS of left geometries and the CRS of right geometries.\n",
      "Use `to_crs()` to reproject one of the input geometries to match the CRS of the other.\n",
      "\n",
      "Left CRS: EPSG:4326\n",
      "Right CRS: None\n",
      "\n",
      "  joined_df5 = gpd.sjoin(districts, merged_df5, how = \"left\", op = \"intersects\")\n"
     ]
    }
   ],
   "source": [
    "# Spatially join with district information\n",
    "joined_df5 = gpd.sjoin(districts, merged_df5, how = \"left\", op = \"intersects\")"
   ]
  },
  {
   "cell_type": "code",
   "execution_count": null,
   "id": "19ae831f",
   "metadata": {},
   "outputs": [],
   "source": [
    "# Drop Wakiso and Kampala\n",
    "joined_df5 = joined_df5[joined_df5[\"2016\"] != \"WAKISO\"]\n",
    "joined_df5 = joined_df5[joined_df5[\"2016\"] != \"KAMPALA\"]\n",
    "len(joined_df5)"
   ]
  },
  {
   "cell_type": "code",
   "execution_count": null,
   "id": "42bca049",
   "metadata": {},
   "outputs": [],
   "source": [
    "# Conduct group_by sample\n",
    "df_sample = joined_df5.groupby(\"region\").sample(8000, random_state = 8)"
   ]
  },
  {
   "cell_type": "code",
   "execution_count": null,
   "id": "43eb7173",
   "metadata": {},
   "outputs": [],
   "source": [
    "# Convert 'lat_lon' column to separate 'lat' and 'lon' columns\n",
    "lat = []\n",
    "lon = []\n",
    "\n",
    "for x in df_sample['lat_lon']:\n",
    "    lat.append(x[0])\n",
    "    lon.append(x[1])\n",
    "\n",
    "df_sample['lat'] = lat\n",
    "df_sample['lon'] = lon"
   ]
  },
  {
   "cell_type": "code",
   "execution_count": null,
   "id": "846dfe7f",
   "metadata": {},
   "outputs": [],
   "source": [
    "# Create train-test split\n",
    "feature_pipeline = Pipeline(\n",
    "    [\n",
    "        ('tfidf', TfidfVectorizer(ngram_range = (1,3), analyzer='char_wb', lowercase=False, min_df=3)),\n",
    "    ]\n",
    ")\n",
    "\n",
    "labels = LabelEncoder()\n",
    "\n",
    "X_train, X_test, y_train, y_test = train_test_split(\n",
    "    df_sample['surname'], df_sample[['lat', 'lon']], random_state=8, test_size=.3\n",
    ")\n",
    "\n",
    "feature_pipeline.fit(X_train)\n",
    "\n",
    "X_train = feature_pipeline.transform(X_train)\n",
    "X_test = feature_pipeline.transform(X_test)"
   ]
  },
  {
   "cell_type": "code",
   "execution_count": null,
   "id": "b7922f75",
   "metadata": {},
   "outputs": [],
   "source": [
    "# Fit MultiTaskElasticNet model\n",
    "model = MultiTaskElasticNetCV()\n",
    "\n",
    "model.fit(X_train.toarray(), y_train)"
   ]
  },
  {
   "cell_type": "code",
   "execution_count": null,
   "id": "ab5b52c3",
   "metadata": {},
   "outputs": [],
   "source": [
    "# Find R^2 for training data\n",
    "model.score(X_train, y_train)"
   ]
  },
  {
   "cell_type": "code",
   "execution_count": null,
   "id": "c59c9205",
   "metadata": {},
   "outputs": [],
   "source": [
    "# Find R^2 for test data\n",
    "model.score(X_test, y_test)"
   ]
  },
  {
   "cell_type": "code",
   "execution_count": null,
   "id": "22cdccd3",
   "metadata": {},
   "outputs": [],
   "source": [
    "# Saving model\n",
    "file = 'zhang_multi_task_new.sav'\n",
    "joblib.dump(model, open(file, 'wb'))"
   ]
  }
 ],
 "metadata": {
  "kernelspec": {
   "display_name": "Python 3 (ipykernel)",
   "language": "python",
   "name": "python3"
  },
  "language_info": {
   "codemirror_mode": {
    "name": "ipython",
    "version": 3
   },
   "file_extension": ".py",
   "mimetype": "text/x-python",
   "name": "python",
   "nbconvert_exporter": "python",
   "pygments_lexer": "ipython3",
   "version": "3.9.16"
  }
 },
 "nbformat": 4,
 "nbformat_minor": 5
}
