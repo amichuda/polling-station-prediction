{
 "cells": [
  {
   "cell_type": "markdown",
   "metadata": {},
   "source": [
    "# Redoing Classification as Regression (with more data pre-processing in the mix)"
   ]
  },
  {
   "cell_type": "markdown",
   "metadata": {},
   "source": [
    "Rather than making this problem about classifiying particular classes, we can re-mould this problem as a regression problem that attempts to predicts GPS coordinates.\n",
    "\n",
    "This is how we'll do that:\n",
    "\n",
    "1. Extract GPS centroids for each district\n",
    "2. use the x and y coords as targets in a prediction regression\n",
    "\n",
    "\n"
   ]
  },
  {
   "cell_type": "code",
   "execution_count": 3,
   "metadata": {},
   "outputs": [],
   "source": [
    "import pandas as pd\n",
    "import geopandas as gpd\n",
    "import sys\n",
    "sys.path.append(\"../classifier\")\n",
    "from scripts.data_processor import DataProcessor, process_data\n",
    "from sklearn.feature_extraction.text import TfidfVectorizer, CountVectorizer, HashingVectorizer\n",
    "from sklearn.feature_extraction import FeatureHasher\n",
    "from sklearn.pipeline import Pipeline\n",
    "from sklearn.model_selection import train_test_split\n",
    "from sklearn.svm import LinearSVR\n",
    "from sklearn.preprocessing import LabelEncoder\n",
    "from sklearn.linear_model import Lasso, LassoCV, MultiTaskLassoCV\n",
    "\n",
    "from yellowbrick.model_selection import LearningCurve\n"
   ]
  },
  {
   "cell_type": "code",
   "execution_count": 5,
   "metadata": {},
   "outputs": [],
   "source": [
    "## Load data\n",
    "names = pd.read_feather(\"../data/processed/after_stata_comp_region_gaul.feather\")\n"
   ]
  },
  {
   "cell_type": "code",
   "execution_count": 33,
   "metadata": {},
   "outputs": [
    {
     "name": "stderr",
     "output_type": "stream",
     "text": [
      "/tmp/ipykernel_1239722/171623091.py:98: UserWarning: Geometry is in a geographic CRS. Results from 'centroid' are likely incorrect. Use 'GeoSeries.to_crs()' to re-project geometries to a projected CRS before this operation.\n",
      "\n",
      "  .assign(centroid = lambda df: df.geometry.centroid,\n",
      "/tmp/ipykernel_1239722/171623091.py:99: UserWarning: Geometry is in a geographic CRS. Results from 'centroid' are likely incorrect. Use 'GeoSeries.to_crs()' to re-project geometries to a projected CRS before this operation.\n",
      "\n",
      "  x_coord = lambda df: df.centroid.x,\n",
      "/tmp/ipykernel_1239722/171623091.py:100: UserWarning: Geometry is in a geographic CRS. Results from 'centroid' are likely incorrect. Use 'GeoSeries.to_crs()' to re-project geometries to a projected CRS before this operation.\n",
      "\n",
      "  y_coord = lambda df: df.centroid.y,\n"
     ]
    }
   ],
   "source": [
    "adm2_en_name_change = {'Kwania' : 'Apac',\n",
    "                       'Madi Okollo' : 'Arua',\n",
    "                       'Omoro' : 'Gulu',\n",
    "                       'Kikuube' : 'Hoima',\n",
    "                       'Bugweri' : 'Iganga',\n",
    "                       'Mbarara' : 'Kabale',\n",
    "                       'Rubanda' : 'Kabale',\n",
    "                       'Rukiga' : 'Kabale',\n",
    "                       'Bunyangabu' : 'Kabarole',\n",
    "                       'Namisindwa' : 'Manafwa',\n",
    "                       'Kazo' : 'Kiruhura',\n",
    "                       'Karenga' : 'Kaabong',\n",
    "                       'Kapelebyong' : 'Amuria'}\n",
    "adm4_en_name_change = {'Chawente' : 'Cawente',  \n",
    "                       'Agulu Division' : 'Apac Town Council',\n",
    "                       'Akere Division' : 'Apac Town Council',\n",
    "                       'Arocha Division' : 'Apac Town Council',\n",
    "                       'Atik Division' : 'Apac Town Council',\n",
    "                       'Aii-Vu' : 'Aii',\n",
    "                       'Bileafe' : 'Beleafe',\n",
    "                       'Arua Hill Division' : 'Arua Hill',\n",
    "                       'River Oli Division' : 'Oli River',\n",
    "                       'Harugale' : 'Harugali',\n",
    "                       'Nduguto' : 'Ndugutu',\n",
    "                       'Central Divison' : 'Central Division',\n",
    "                       'Ishaka Divison' : 'Ishaka Division',\n",
    "                       'Bar Dege Division' : 'Bar',\n",
    "                       'Laroo Division' : 'Laroo',\n",
    "                       'Layibi Division' : 'Layibi',\n",
    "                       'Pece Division' : 'Pece',\n",
    "                       'Mparo Divison' : 'Mparo Division',\n",
    "                       'Bulamogi' : 'Bulamagi',\n",
    "                       'Masese Walukuba' : 'Walukuba',\n",
    "                       'Bubaare' : 'Bubare',\n",
    "                       'Labori' : 'Labor',\n",
    "                       'Nyamweru' : 'Nyamweeru',\n",
    "                       'Masiira' : 'Masira',\n",
    "                       'Bulaago' : 'Bulago',\n",
    "                       'Lwajje' : 'Lwaje',\n",
    "                       'Sigulu Island' : 'Sigulu Islands',\n",
    "                       'Madi Opei' : 'Madi',\n",
    "                       'Palabek Gem' : 'Palabek',\n",
    "                       'Palabek Kal' : 'Palabek',\n",
    "                       'Palabek Ogili' : 'Ogili',\n",
    "                       'Wakisi Division' : 'Wakisi',\n",
    "                       'Ssi-Bukunja' : \"Ssi\",\n",
    "                       'Kabweza Kyegegwa' : 'Kyegegwa',\n",
    "                       'Oluffe' : 'Olufe',\n",
    "                       'Njeru Division' : \"Njeru Town Council\",\n",
    "                       'Nyenga Division' : 'Nyenga',\n",
    "                       'Katebwa' : 'Kateebwa',\n",
    "                       'Hakibaale' : 'Hakibale',\n",
    "                       'Harugogo' : 'Harugongo',\n",
    "                       'Katebwa' : 'Kateebwa',\n",
    "                       'Kagango Division' : 'Kagango',\n",
    "                       'Kabwohe Division' : 'Kabwohe',\n",
    "                       'Sheema Central Division' : 'Sheema Town Council',\n",
    "                       'Dokolo Tc' : 'Dokolo Town Council',\n",
    "                       'Iceme' : 'Icheme',\n",
    "                       'Kashozi Division' : 'Kashozi',\n",
    "                       'Shuuku Town Council' : 'Shuuku',\n",
    "                       'Bala' : 'Balla',\n",
    "                       'Katiira' : 'Katira',\n",
    "                       'Agwata' : 'Agwatta',\n",
    "                       'Attiak' : 'Atiak',\n",
    "                       'Pabo' : 'Pabbo',\n",
    "                       'Kkingo' : 'Kingo',\n",
    "                       'Lopeei' : 'Lopei',\n",
    "                       'Anaka Payira' : 'Anaka',\n",
    "                       'Anaka Town Council' : 'Anaka',\n",
    "                       'Kito' : 'Kitto',\n",
    "                       'Butalangu Town Council' : 'Nakaseke Butalangu Town Counc',\n",
    "                       'Kasangombe' : 'Kaasangombe',\n",
    "                       'Koch-Goma' : 'Koch',\n",
    "                       'Bukokho' : 'Bukoho',\n",
    "                       'Mpumudde Division' : 'Kimaka',\n",
    "                       'Lira Palwo' : 'Lira',\n",
    "                       'Kotomol'  : 'Kotomor',\n",
    "                       'Kikaatsi' : 'Kikatsi',\n",
    "                       'Acaba' : 'Achaba',\n",
    "                       'Rubiriziri Town Council' : 'Rubirizi Town Council',\n",
    "                       'Nakawa Division' : 'Nakawa',\n",
    "                       'Karenga Town Council' : 'Karenga',\n",
    "                       'Mabende' : 'Kabende',\n",
    "                       'Kitholhu' : 'Kitholu',\n",
    "                       'Endiinzi' : 'Endinzi',\n",
    "                       'Bisheshe Division' : 'Bisheshe',\n",
    "                       'Mpondwe-Lhubiriha' : 'Mpondwe',\n",
    "                       'Katwe Kabatoro Town Council' : 'Lake Kabatoro Town Council',\n",
    "                       'Bukwo' : 'Bukwa',\n",
    "                       'Olio' : 'Serere',\n",
    "                       'Pacara' : 'Pachara',\n",
    "                       'Awelo' : 'Awello'}\n",
    "\n",
    "# Load district data\n",
    "subcounties = (\n",
    "    gpd.read_file(\"../data/raw/district_2020_shapefile/uga_admbnda_adm4_ubos_20200824.shp\")\n",
    "    .assign(centroid = lambda df: df.geometry.centroid,\n",
    "            x_coord = lambda df: df.centroid.x,\n",
    "            y_coord = lambda df: df.centroid.y,\n",
    "            ADM2_EN = lambda df: df['ADM2_EN'].str.strip(),\n",
    "            ADM4_EN = lambda df: df['ADM4_EN'].str.strip().str.replace(\"Divison\", 'Division').str.replace(\"  \", ' '))\n",
    "    .replace({'ADM2_EN' : adm2_en_name_change})\n",
    "    .replace({'ADM4_EN' : adm4_en_name_change})\n",
    "             ) # not reprojecting because it's not really changing much \n",
    "\n",
    "subcounties.loc[lambda df: (df['ADM2_EN'] == 'Kabale') & (df['ADM4_EN'] == 'Northern Division'), 'ADM4_EN'] = 'Kabale Northern'\n",
    "subcounties.loc[lambda df: (df['ADM2_EN'] == 'Kabale') & (df['ADM4_EN'] == 'Southern Division'), 'ADM4_EN'] = 'Kabale Southern'\n",
    "subcounties.loc[lambda df: (df['ADM2_EN'] == 'Kabale') & (df['ADM4_EN'] == 'Central Division'), 'ADM4_EN'] = 'Kabale Central'\n",
    "subcounties.loc[lambda df: (df['ADM2_EN'] == 'Koboko') & (df['ADM4_EN'] == 'Southern Division'), 'ADM4_EN'] = 'South Division'\n",
    "subcounties.loc[lambda df: (df['ADM2_EN'] == 'Kampala') & (df['ADM4_EN'] == 'Central Division'), 'ADM4_EN'] = 'Kampala Central'\n",
    "subcounties.loc[lambda df: (df['ADM2_EN'] == 'Kapchorwa') & (df['ADM4_EN'] == 'Eastern Division'), 'ADM4_EN'] = 'East Division'\n",
    "subcounties.loc[lambda df: (df['ADM2_EN'] == 'Kapchorwa') & (df['ADM4_EN'] == 'Western Division'), 'ADM4_EN'] = 'West Division'"
   ]
  },
  {
   "cell_type": "code",
   "execution_count": 34,
   "metadata": {},
   "outputs": [],
   "source": [
    "district_name_change = {\n",
    "    'Luweero' : 'Luwero'\n",
    "}\n",
    "\n",
    "subcounty_name_change = {\n",
    "    'Jinja Central' : 'Central Division'\n",
    "}\n",
    "\n",
    "# deduplicate names to make it easier to work with\n",
    "# we'll re-duplicate later, once we merge\n",
    "processed_names = (\n",
    "    names\n",
    "    .assign(district = lambda df: df.district.str.title().str.replace('  ', ' '),\n",
    "            sub_county = lambda df: df.sub_county.str.title().str.replace('  ', ' '))\n",
    "    .replace({'district' : district_name_change})\n",
    "    .replace({'sub_county' : subcounty_name_change})\n",
    "    [['district', 'sub_county', 'constituency', 'surname', 'region_gaul_comp', 'gaul']]\n",
    "    )"
   ]
  },
  {
   "cell_type": "code",
   "execution_count": 35,
   "metadata": {},
   "outputs": [],
   "source": [
    "merged_geo_df = subcounties.merge(processed_names, left_on = ['ADM2_EN', 'ADM4_EN'], right_on =['district', 'sub_county'],\n",
    "                                  how='outer', indicator=True)"
   ]
  },
  {
   "cell_type": "code",
   "execution_count": 36,
   "metadata": {},
   "outputs": [
    {
     "data": {
      "text/plain": [
       "both          12822026\n",
       "right_only     1835031\n",
       "left_only          310\n",
       "Name: _merge, dtype: int64"
      ]
     },
     "execution_count": 36,
     "metadata": {},
     "output_type": "execute_result"
    }
   ],
   "source": [
    "merged_geo_df._merge.value_counts()"
   ]
  },
  {
   "cell_type": "code",
   "execution_count": 32,
   "metadata": {},
   "outputs": [
    {
     "data": {
      "text/html": [
       "<div>\n",
       "<style scoped>\n",
       "    .dataframe tbody tr th:only-of-type {\n",
       "        vertical-align: middle;\n",
       "    }\n",
       "\n",
       "    .dataframe tbody tr th {\n",
       "        vertical-align: top;\n",
       "    }\n",
       "\n",
       "    .dataframe thead th {\n",
       "        text-align: right;\n",
       "    }\n",
       "</style>\n",
       "<table border=\"1\" class=\"dataframe\">\n",
       "  <thead>\n",
       "    <tr style=\"text-align: right;\">\n",
       "      <th></th>\n",
       "      <th>ADM1_EN</th>\n",
       "      <th>ADM2_EN</th>\n",
       "      <th>ADM3_EN</th>\n",
       "      <th>ADM4_EN</th>\n",
       "    </tr>\n",
       "  </thead>\n",
       "  <tbody>\n",
       "    <tr>\n",
       "      <th>123280</th>\n",
       "      <td>Eastern</td>\n",
       "      <td>Kapelebyong</td>\n",
       "      <td>Kapelebyong</td>\n",
       "      <td>Acowa</td>\n",
       "    </tr>\n",
       "  </tbody>\n",
       "</table>\n",
       "</div>"
      ],
      "text/plain": [
       "        ADM1_EN      ADM2_EN      ADM3_EN ADM4_EN\n",
       "123280  Eastern  Kapelebyong  Kapelebyong   Acowa"
      ]
     },
     "execution_count": 32,
     "metadata": {},
     "output_type": "execute_result"
    }
   ],
   "source": [
    "merged_geo_df.query(\"_merge == 'left_only'\")[['ADM1_EN','ADM2_EN', 'ADM3_EN' ,'ADM4_EN']].query(\"ADM4_EN.str.contains('Acowa')\")"
   ]
  },
  {
   "cell_type": "code",
   "execution_count": 18,
   "metadata": {},
   "outputs": [
    {
     "data": {
      "text/html": [
       "<div>\n",
       "<style scoped>\n",
       "    .dataframe tbody tr th:only-of-type {\n",
       "        vertical-align: middle;\n",
       "    }\n",
       "\n",
       "    .dataframe tbody tr th {\n",
       "        vertical-align: top;\n",
       "    }\n",
       "\n",
       "    .dataframe thead th {\n",
       "        text-align: right;\n",
       "    }\n",
       "</style>\n",
       "<table border=\"1\" class=\"dataframe\">\n",
       "  <thead>\n",
       "    <tr style=\"text-align: right;\">\n",
       "      <th></th>\n",
       "      <th>district</th>\n",
       "      <th>sub_county</th>\n",
       "      <th>constituency</th>\n",
       "    </tr>\n",
       "  </thead>\n",
       "  <tbody>\n",
       "    <tr>\n",
       "      <th>12779738</th>\n",
       "      <td>Adjumani</td>\n",
       "      <td>Pachara</td>\n",
       "      <td>ADJUMANI WEST COUNTY</td>\n",
       "    </tr>\n",
       "    <tr>\n",
       "      <th>12783483</th>\n",
       "      <td>Amolatar</td>\n",
       "      <td>Awello</td>\n",
       "      <td>KIOGA COUNTY</td>\n",
       "    </tr>\n",
       "    <tr>\n",
       "      <th>12788520</th>\n",
       "      <td>Amuria</td>\n",
       "      <td>Acowa</td>\n",
       "      <td>KAPELEBYONG COUNTY</td>\n",
       "    </tr>\n",
       "    <tr>\n",
       "      <th>12797176</th>\n",
       "      <td>Amuria</td>\n",
       "      <td>Okungur</td>\n",
       "      <td>KAPELEBYONG COUNTY</td>\n",
       "    </tr>\n",
       "    <tr>\n",
       "      <th>12802160</th>\n",
       "      <td>Amuria</td>\n",
       "      <td>Kapelebyong</td>\n",
       "      <td>KAPELEBYONG COUNTY</td>\n",
       "    </tr>\n",
       "    <tr>\n",
       "      <th>...</th>\n",
       "      <td>...</td>\n",
       "      <td>...</td>\n",
       "      <td>...</td>\n",
       "    </tr>\n",
       "    <tr>\n",
       "      <th>14477395</th>\n",
       "      <td>Wakiso</td>\n",
       "      <td>Katabi</td>\n",
       "      <td>BUSIRO COUNTY SOUTH</td>\n",
       "    </tr>\n",
       "    <tr>\n",
       "      <th>14529161</th>\n",
       "      <td>Wakiso</td>\n",
       "      <td>Ssisa</td>\n",
       "      <td>BUSIRO COUNTY SOUTH</td>\n",
       "    </tr>\n",
       "    <tr>\n",
       "      <th>14576735</th>\n",
       "      <td>Wakiso</td>\n",
       "      <td>Masuliita Town Council</td>\n",
       "      <td>BUSIRO COUNTY NORTH</td>\n",
       "    </tr>\n",
       "    <tr>\n",
       "      <th>14583136</th>\n",
       "      <td>Wakiso</td>\n",
       "      <td>Nangabo</td>\n",
       "      <td>KYADONDO COUNTY EAST</td>\n",
       "    </tr>\n",
       "    <tr>\n",
       "      <th>14651144</th>\n",
       "      <td>Yumbe</td>\n",
       "      <td>Midingo</td>\n",
       "      <td>ARINGA NORTH COUNTY</td>\n",
       "    </tr>\n",
       "  </tbody>\n",
       "</table>\n",
       "<p>160 rows × 3 columns</p>\n",
       "</div>"
      ],
      "text/plain": [
       "          district              sub_county          constituency\n",
       "12779738  Adjumani                 Pachara  ADJUMANI WEST COUNTY\n",
       "12783483  Amolatar                  Awello          KIOGA COUNTY\n",
       "12788520    Amuria                   Acowa    KAPELEBYONG COUNTY\n",
       "12797176    Amuria                 Okungur    KAPELEBYONG COUNTY\n",
       "12802160    Amuria             Kapelebyong    KAPELEBYONG COUNTY\n",
       "...            ...                     ...                   ...\n",
       "14477395    Wakiso                  Katabi   BUSIRO COUNTY SOUTH\n",
       "14529161    Wakiso                   Ssisa   BUSIRO COUNTY SOUTH\n",
       "14576735    Wakiso  Masuliita Town Council   BUSIRO COUNTY NORTH\n",
       "14583136    Wakiso                 Nangabo  KYADONDO COUNTY EAST\n",
       "14651144     Yumbe                 Midingo   ARINGA NORTH COUNTY\n",
       "\n",
       "[160 rows x 3 columns]"
      ]
     },
     "execution_count": 18,
     "metadata": {},
     "output_type": "execute_result"
    }
   ],
   "source": [
    "merged_geo_df.query(\"_merge == 'right_only'\")[['district', 'sub_county', 'constituency']].drop_duplicates()"
   ]
  },
  {
   "cell_type": "code",
   "execution_count": 10,
   "metadata": {},
   "outputs": [
    {
     "name": "stderr",
     "output_type": "stream",
     "text": [
      "/tmp/ipykernel_121476/2819896233.py:9: FutureWarning: The default value of regex will change from True to False in a future version. In addition, single character regular expressions will *not* be treated as literal strings when regex=True.\n",
      "  df[features]\n"
     ]
    }
   ],
   "source": [
    "df = (\n",
    "    merged_geo_df[['geometry', 'district', 'surname', 'freq', 'centroid', 'x_coord', 'y_coord']]\n",
    "    .pipe(process_data, 'surname')\n",
    "    [['surname', 'x_coord', 'y_coord']]\n",
    "    \n",
    "    )"
   ]
  },
  {
   "cell_type": "code",
   "execution_count": 11,
   "metadata": {},
   "outputs": [],
   "source": [
    "feature_pipeline = Pipeline(\n",
    "    [\n",
    "        ('tfidf', TfidfVectorizer(ngram_range = (1,3), analyzer='char_wb', lowercase=False, min_df=3)),\n",
    "        \n",
    "    ]\n",
    ")\n",
    "\n",
    "labels = LabelEncoder()\n",
    "\n",
    "df_sample = df.sample(10000)\n",
    "\n",
    "X_train, X_test, y_train, y_test = train_test_split(\n",
    "    df_sample['surname'], df_sample[['x_coord', 'y_coord']], random_state=8, test_size=.3\n",
    ")\n",
    "\n",
    "feature_pipeline.fit(X_train)\n",
    "\n",
    "X_train = feature_pipeline.transform(X_train)\n",
    "X_test = feature_pipeline.transform(X_test)\n"
   ]
  },
  {
   "cell_type": "code",
   "execution_count": 12,
   "metadata": {},
   "outputs": [],
   "source": [
    "model = MultiTaskLassoCV()\n",
    "\n",
    "model.fit(X_train.toarray(), y_train)"
   ]
  }
 ],
 "metadata": {
  "kernelspec": {
   "display_name": "Python 3.9.7 ('uganda-uber')",
   "language": "python",
   "name": "python3"
  },
  "language_info": {
   "codemirror_mode": {
    "name": "ipython",
    "version": 3
   },
   "file_extension": ".py",
   "mimetype": "text/x-python",
   "name": "python",
   "nbconvert_exporter": "python",
   "pygments_lexer": "ipython3",
   "version": "3.9.7"
  },
  "orig_nbformat": 4,
  "vscode": {
   "interpreter": {
    "hash": "7561a864ef9f1fd1d1364a29fed4d77b13d91592316d2da0b58a6646a794c410"
   }
  }
 },
 "nbformat": 4,
 "nbformat_minor": 2
}
