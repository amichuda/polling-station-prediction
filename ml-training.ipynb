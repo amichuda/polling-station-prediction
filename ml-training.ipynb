{
 "cells": [
  {
   "cell_type": "code",
   "execution_count": 3,
   "metadata": {},
   "outputs": [],
   "source": [
    "%load_ext autoreload"
   ]
  },
  {
   "cell_type": "markdown",
   "metadata": {},
   "source": [
    "## Tasks\n",
    "\n",
    "- Do a tfidf transform\n",
    "    - Is there a better way to process the text?\n",
    "    - What about other variables in the dataset?\n",
    "        - FeatureHashing\n",
    "- Do a label transform\n",
    "- find other models to run for this problem\n",
    "    - SVM\n",
    "    - Naive Bayes\n",
    "    - RegressionTree\n",
    "- Run different regions with papermill\n",
    "- Use yellowbrick to run some tests\n",
    "    - !!! Important: [Learning Curve](https://www.scikit-yb.org/en/latest/api/model_selection/learning_curve.html)"
   ]
  },
  {
   "cell_type": "code",
   "execution_count": 4,
   "metadata": {},
   "outputs": [],
   "source": [
    "%autoreload 2\n",
    "import pandas as pd\n",
    "import sys\n",
    "import xgboost\n",
    "from sklearn.calibration import CalibratedClassifierCV\n",
    "from sklearn.model_selection import StratifiedGroupKFold\n",
    "from sklearn.dummy import DummyClassifier\n",
    "import matplotlib.pyplot as plt\n",
    "from sklearn.model_selection import permutation_test_score\n",
    "from joblib import dump, load"
   ]
  },
  {
   "cell_type": "code",
   "execution_count": 5,
   "metadata": {},
   "outputs": [],
   "source": [
    "names_data = pd.read_feather(\"/home/am2497/uganda-uber-classifier/data/processed/after_stata_comp_region_gaul.feather\")"
   ]
  },
  {
   "cell_type": "code",
   "execution_count": 13,
   "metadata": {},
   "outputs": [
    {
     "data": {
      "text/plain": [
       "10"
      ]
     },
     "execution_count": 13,
     "metadata": {},
     "output_type": "execute_result"
    }
   ],
   "source": [
    "# region : 4\n",
    "# gaul :  10\n",
    "# district: 112"
   ]
  },
  {
   "cell_type": "code",
   "execution_count": null,
   "metadata": {},
   "outputs": [],
   "source": [
    "# process names data\n",
    "\n",
    "\n"
   ]
  },
  {
   "cell_type": "code",
   "execution_count": 21,
   "metadata": {},
   "outputs": [
    {
     "name": "stdout",
     "output_type": "stream",
     "text": [
      "2022-07-12 12:56:56,250 Dumping pre-processors\n"
     ]
    },
    {
     "data": {
      "text/plain": [
       "['ml-output/model_dump/trained_models/label_encoder_kingdom.joblib']"
      ]
     },
     "execution_count": 21,
     "metadata": {},
     "output_type": "execute_result"
    }
   ],
   "source": [
    "dump(tfidf, \"ml-output/model_dump/trained_models/tfidf_boom.joblib\")\n",
    "\n",
    "dump(labels, f\"ml-output/model_dump/trained_models/label_encoder_kingdom_{target}.joblib\")"
   ]
  },
  {
   "cell_type": "code",
   "execution_count": 46,
   "metadata": {},
   "outputs": [
    {
     "name": "stdout",
     "output_type": "stream",
     "text": [
      "2022-07-12 15:44:17,968 Creating model\n"
     ]
    }
   ],
   "source": [
    "\n",
    "model = xgboost.XGBClassifier()\n",
    "\n",
    "X = tfidf.fit_transform(<feature_col>)\n",
    "y = labels.fit_transform(<label_col>)\n",
    "groups = <data transformation> # groups_df = pd.Categorical(data[features]).codes\n",
    "\n",
    "skf = StratifiedGroupKFold(n_splits=10) \n",
    "splitter = skf.split(X, y, groups=groups)\n",
    "\n"
   ]
  },
  {
   "cell_type": "code",
   "execution_count": 22,
   "metadata": {},
   "outputs": [
    {
     "name": "stdout",
     "output_type": "stream",
     "text": [
      "2022-07-12 12:57:52,316 Fitting Model\n",
      "2022-07-12 12:59:37,858 Dumped calibrated estimator to ml-output/model_dump/trained_models/xgb/calibration/model.joblib\n"
     ]
    }
   ],
   "source": [
    "# Dont necessarily ahve to use this\n",
    "calibrated_model = CalibratedClassifierCV(model, \n",
    "                                            cv=splitter, \n",
    "                                            method='isotonic', # better than platt, but let's do both\n",
    "                                            n_jobs = 5, # only works for sklearn >= 0.24\n",
    "                                            ensemble= True) # dont need the average probabilities\n",
    "\n",
    "calibrated_model.fit(X, y)\n",
    "        \n",
    "path = f\"ml-output/model_dump/trained_models/xgb/calibration/model_{target}.joblib\"\n",
    "\n",
    "dump(calibrated_model, path)\n",
    "\n"
   ]
  },
  {
   "cell_type": "code",
   "execution_count": 25,
   "metadata": {},
   "outputs": [
    {
     "name": "stdout",
     "output_type": "stream",
     "text": [
      "2022-07-12 13:00:55,307 Creating Dummy model\n",
      "2022-07-12 13:00:55,308 Fitting Dummy Model\n",
      "2022-07-12 13:00:55,544 Dumped calibrated estimator to ml-output/model_dump/trained_models/xgb/calibration/dummy_model.joblib\n"
     ]
    },
    {
     "name": "stderr",
     "output_type": "stream",
     "text": [
      "/home/am2497/miniconda3/envs/uganda-uber/lib/python3.9/site-packages/sklearn/utils/deprecation.py:103: FutureWarning: `n_features_in_` is deprecated in 1.0 and will be removed in 1.2.\n",
      "  warnings.warn(msg, category=FutureWarning)\n"
     ]
    }
   ],
   "source": [
    "# Run same thing on dummy classifier\n",
    "\n",
    "dummy_model = DummyClassifier(\n",
    "    strategy = 'uniform'\n",
    ")\n",
    "\n",
    "#run calibrated classifier on features\n",
    "calibrated_dummy_model = CalibratedClassifierCV(dummy_model, \n",
    "                                            cv=splitter, \n",
    "                                            method='isotonic', # better than platt, but let's do both\n",
    "                                            n_jobs = 5, # only works for sklearn >= 0.24\n",
    "                                            ensemble= True) # dont need the average probabilities\n",
    "\n",
    "calibrated_dummy_model.fit(X, y)\n",
    "        \n",
    "path = f\"ml-output/model_dump/trained_models/xgb/calibration/dummy_model_{target}.joblib\"\n",
    "\n",
    "dump(calibrated_dummy_model, path)\n"
   ]
  },
  {
   "cell_type": "code",
   "execution_count": 41,
   "metadata": {},
   "outputs": [],
   "source": [
    "# Load models after training\n",
    "\n",
    "calibrated_model = load(f\"ml-output/model_dump/trained_models/xgb/calibration/model_{target}.joblib\")\n",
    "calibrated_dummy_model = load(f\"ml-output/model_dump/trained_models/xgb/calibration/dummy_model_{target}.joblib\")\n"
   ]
  },
  {
   "cell_type": "markdown",
   "metadata": {},
   "source": [
    "### Plotting Feature Importances"
   ]
  },
  {
   "cell_type": "code",
   "execution_count": null,
   "metadata": {},
   "outputs": [],
   "source": [
    "for c in range(10):\n",
    "    fig, ax = plt.subplots(figsize=(10,15))\n",
    "\n",
    "    xgboost.plot_importance(calibrated_model.calibrated_classifiers_[c].base_estimator, max_num_features=65, ax=ax)\n",
    "\n",
    "    ax.set_yticklabels(tfidf.get_feature_names_out()[[int(i.get_text()[1::]) for i in ax.get_yticklabels()]]);\n",
    "\n",
    "    plt.savefig(f\"../figures/importance_plot_{c}_{target}.png\", dpi=300)"
   ]
  },
  {
   "cell_type": "code",
   "execution_count": 34,
   "metadata": {},
   "outputs": [
    {
     "name": "stdout",
     "output_type": "stream",
     "text": [
      "2022-07-12 13:04:58,129 Generating Comparison Table\n",
      "INFO: Pandarallel will run on 50 workers.\n",
      "INFO: Pandarallel will use Memory file system to transfer data between the main process and workers.\n",
      "Frequency model: 0.8231768231768232\n",
      "calibrated model: 0.8201798201798202\n",
      "dummy model: 0.15784215784215785\n",
      "Frequency model: 0.837\n",
      "calibrated model: 0.828\n",
      "dummy model: 0.158\n",
      "Frequency model: 0.831\n",
      "calibrated model: 0.821\n",
      "dummy model: 0.158\n",
      "Frequency model: 0.817\n",
      "calibrated model: 0.811\n",
      "dummy model: 0.157\n",
      "Frequency model: 0.842\n",
      "calibrated model: 0.837\n",
      "dummy model: 0.157\n",
      "Frequency model: 0.8358358358358359\n",
      "calibrated model: 0.8298298298298298\n",
      "dummy model: 0.15815815815815815\n",
      "Frequency model: 0.822\n",
      "calibrated model: 0.817\n",
      "dummy model: 0.157\n",
      "Frequency model: 0.813\n",
      "calibrated model: 0.805\n",
      "dummy model: 0.157\n",
      "Frequency model: 0.825\n",
      "calibrated model: 0.819\n",
      "dummy model: 0.157\n",
      "Frequency model: 0.836\n",
      "calibrated model: 0.827\n",
      "dummy model: 0.158\n"
     ]
    }
   ],
   "source": [
    "\n",
    "score_dict = {'Random Classifier' : [], 'Frequency Table' : [], 'Calibrated XGBoost Classifier' : []}\n",
    "\n",
    "from pandarallel import pandarallel\n",
    "pandarallel.initialize(progress_bar=True, nb_workers=50)\n",
    "\n",
    "for train, test in splitter:\n",
    "    print(\"calibrated model:\", calibrated_model.score(X[test], y[test]))\n",
    "    print(\"dummy model:\", calibrated_dummy_model.score(X[test], y[test]))\n",
    "    \n",
    "    score_dict['Random Classifier'].append(calibrated_dummy_model.score(X[test], y[test]))\n",
    "    score_dict['Calibrated XGBoost Classifier'].append(calibrated_model.score(X[test], y[test]))\n",
    "    \n",
    "score_df = pd.DataFrame(score_dict, index=[f'CV Fold {i}' for i in range(1,11)])"
   ]
  },
  {
   "cell_type": "code",
   "execution_count": 35,
   "metadata": {},
   "outputs": [],
   "source": [
    "cv_results_table = score_df.T.assign(**{'CV Fold Mean' : lambda df: df.mean(axis=1)}).T.applymap(lambda x: f\"{x:.3f}\").style.to_latex(caption='Results Cross-validation Folds of XGBoost Classifier Compared against a Random Classifier', label='fig-cvresults')\n",
    "\n",
    "with open(f\"../tables/cvresults_{target}_training.tex\", 'w') as f:\n",
    "    f.write(cv_results_table)"
   ]
  },
  {
   "cell_type": "markdown",
   "metadata": {},
   "source": [
    "### Permutation Test"
   ]
  },
  {
   "cell_type": "code",
   "execution_count": 58,
   "metadata": {},
   "outputs": [
    {
     "name": "stdout",
     "output_type": "stream",
     "text": [
      "2022-07-12 20:49:58,263 Running Permutation Test...\n"
     ]
    },
    {
     "ename": "IndexError",
     "evalue": "index (49999) out of range",
     "output_type": "error",
     "traceback": [
      "\u001b[0;31m---------------------------------------------------------------------------\u001b[0m",
      "\u001b[0;31m_RemoteTraceback\u001b[0m                          Traceback (most recent call last)",
      "\u001b[0;31m_RemoteTraceback\u001b[0m: \n\"\"\"\nTraceback (most recent call last):\n  File \"/home/am2497/miniconda3/envs/uganda-uber/lib/python3.9/site-packages/joblib/externals/loky/process_executor.py\", line 436, in _process_worker\n    r = call_item()\n  File \"/home/am2497/miniconda3/envs/uganda-uber/lib/python3.9/site-packages/joblib/externals/loky/process_executor.py\", line 288, in __call__\n    return self.fn(*self.args, **self.kwargs)\n  File \"/home/am2497/miniconda3/envs/uganda-uber/lib/python3.9/site-packages/joblib/_parallel_backends.py\", line 595, in __call__\n    return self.func(*args, **kwargs)\n  File \"/home/am2497/miniconda3/envs/uganda-uber/lib/python3.9/site-packages/joblib/parallel.py\", line 262, in __call__\n    return [func(*args, **kwargs)\n  File \"/home/am2497/miniconda3/envs/uganda-uber/lib/python3.9/site-packages/joblib/parallel.py\", line 262, in <listcomp>\n    return [func(*args, **kwargs)\n  File \"/home/am2497/miniconda3/envs/uganda-uber/lib/python3.9/site-packages/sklearn/utils/fixes.py\", line 117, in __call__\n    return self.function(*args, **kwargs)\n  File \"/home/am2497/miniconda3/envs/uganda-uber/lib/python3.9/site-packages/sklearn/calibration.py\", line 527, in _fit_classifier_calibrator_pair\n    X_train, y_train = _safe_indexing(X, train), _safe_indexing(y, train)\n  File \"/home/am2497/miniconda3/envs/uganda-uber/lib/python3.9/site-packages/sklearn/utils/__init__.py\", line 361, in _safe_indexing\n    return _array_indexing(X, indices, indices_dtype, axis=axis)\n  File \"/home/am2497/miniconda3/envs/uganda-uber/lib/python3.9/site-packages/sklearn/utils/__init__.py\", line 185, in _array_indexing\n    return array[key] if axis == 0 else array[:, key]\n  File \"/home/am2497/miniconda3/envs/uganda-uber/lib/python3.9/site-packages/scipy/sparse/_index.py\", line 47, in __getitem__\n    row, col = self._validate_indices(key)\n  File \"/home/am2497/miniconda3/envs/uganda-uber/lib/python3.9/site-packages/scipy/sparse/_index.py\", line 159, in _validate_indices\n    row = self._asindices(row, M)\n  File \"/home/am2497/miniconda3/envs/uganda-uber/lib/python3.9/site-packages/scipy/sparse/_index.py\", line 191, in _asindices\n    raise IndexError('index (%d) out of range' % max_indx)\nIndexError: index (49999) out of range\n\"\"\"",
      "\nThe above exception was the direct cause of the following exception:\n",
      "\u001b[0;31mIndexError\u001b[0m                                Traceback (most recent call last)",
      "\u001b[1;32m/home/am2497/uganda-uber-paper/paper/scripts/ml-training.ipynb Cell 21'\u001b[0m in \u001b[0;36m<cell line: 6>\u001b[0;34m()\u001b[0m\n\u001b[1;32m      <a href='vscode-notebook-cell://ssh-remote%2Bwhale.orie.cornell.edu/home/am2497/uganda-uber-paper/paper/scripts/ml-training.ipynb#ch0000019vscode-remote?line=0'>1</a>\u001b[0m logging\u001b[39m.\u001b[39minfo(\u001b[39m\"\u001b[39m\u001b[39mRunning Permutation Test...\u001b[39m\u001b[39m\"\u001b[39m)\n\u001b[1;32m      <a href='vscode-notebook-cell://ssh-remote%2Bwhale.orie.cornell.edu/home/am2497/uganda-uber-paper/paper/scripts/ml-training.ipynb#ch0000019vscode-remote?line=1'>2</a>\u001b[0m user\u001b[39m.\u001b[39msend(to\u001b[39m=\u001b[39m\u001b[39m'\u001b[39m\u001b[39mhome.pi.logs@gmail.com\u001b[39m\u001b[39m'\u001b[39m, \\\n\u001b[1;32m      <a href='vscode-notebook-cell://ssh-remote%2Bwhale.orie.cornell.edu/home/am2497/uganda-uber-paper/paper/scripts/ml-training.ipynb#ch0000019vscode-remote?line=2'>3</a>\u001b[0m              subject\u001b[39m=\u001b[39msubject, \\\n\u001b[1;32m      <a href='vscode-notebook-cell://ssh-remote%2Bwhale.orie.cornell.edu/home/am2497/uganda-uber-paper/paper/scripts/ml-training.ipynb#ch0000019vscode-remote?line=3'>4</a>\u001b[0m              contents\u001b[39m=\u001b[39m\u001b[39m'\u001b[39m\u001b[39mRUNNING PERMUTATION TEST.\u001b[39m\u001b[39m'\u001b[39m)\n\u001b[0;32m----> <a href='vscode-notebook-cell://ssh-remote%2Bwhale.orie.cornell.edu/home/am2497/uganda-uber-paper/paper/scripts/ml-training.ipynb#ch0000019vscode-remote?line=5'>6</a>\u001b[0m score, perm_scores, pvalue \u001b[39m=\u001b[39m permutation_test_score(\n\u001b[1;32m      <a href='vscode-notebook-cell://ssh-remote%2Bwhale.orie.cornell.edu/home/am2497/uganda-uber-paper/paper/scripts/ml-training.ipynb#ch0000019vscode-remote?line=6'>7</a>\u001b[0m     calibrated_model, X, y, scoring\u001b[39m=\u001b[39;49m\u001b[39m\"\u001b[39;49m\u001b[39maccuracy\u001b[39;49m\u001b[39m\"\u001b[39;49m, cv\u001b[39m=\u001b[39;49msplitter, n_permutations\u001b[39m=\u001b[39;49m\u001b[39m1000\u001b[39;49m, n_jobs\u001b[39m=\u001b[39;49m\u001b[39m10\u001b[39;49m\n\u001b[1;32m      <a href='vscode-notebook-cell://ssh-remote%2Bwhale.orie.cornell.edu/home/am2497/uganda-uber-paper/paper/scripts/ml-training.ipynb#ch0000019vscode-remote?line=7'>8</a>\u001b[0m )\n",
      "File \u001b[0;32m~/miniconda3/envs/uganda-uber/lib/python3.9/site-packages/sklearn/model_selection/_validation.py:1305\u001b[0m, in \u001b[0;36mpermutation_test_score\u001b[0;34m(estimator, X, y, groups, cv, n_permutations, n_jobs, random_state, verbose, scoring, fit_params)\u001b[0m\n\u001b[1;32m   1301\u001b[0m random_state \u001b[39m=\u001b[39m check_random_state(random_state)\n\u001b[1;32m   1303\u001b[0m \u001b[39m# We clone the estimator to make sure that all the folds are\u001b[39;00m\n\u001b[1;32m   1304\u001b[0m \u001b[39m# independent, and that it is pickle-able.\u001b[39;00m\n\u001b[0;32m-> 1305\u001b[0m score \u001b[39m=\u001b[39m _permutation_test_score(\n\u001b[1;32m   1306\u001b[0m     clone(estimator), X, y, groups, cv, scorer, fit_params\u001b[39m=\u001b[39;49mfit_params\n\u001b[1;32m   1307\u001b[0m )\n\u001b[1;32m   1308\u001b[0m permutation_scores \u001b[39m=\u001b[39m Parallel(n_jobs\u001b[39m=\u001b[39mn_jobs, verbose\u001b[39m=\u001b[39mverbose)(\n\u001b[1;32m   1309\u001b[0m     delayed(_permutation_test_score)(\n\u001b[1;32m   1310\u001b[0m         clone(estimator),\n\u001b[0;32m   (...)\u001b[0m\n\u001b[1;32m   1318\u001b[0m     \u001b[39mfor\u001b[39;00m _ \u001b[39min\u001b[39;00m \u001b[39mrange\u001b[39m(n_permutations)\n\u001b[1;32m   1319\u001b[0m )\n\u001b[1;32m   1320\u001b[0m permutation_scores \u001b[39m=\u001b[39m np\u001b[39m.\u001b[39marray(permutation_scores)\n",
      "File \u001b[0;32m~/miniconda3/envs/uganda-uber/lib/python3.9/site-packages/sklearn/model_selection/_validation.py:1334\u001b[0m, in \u001b[0;36m_permutation_test_score\u001b[0;34m(estimator, X, y, groups, cv, scorer, fit_params)\u001b[0m\n\u001b[1;32m   1332\u001b[0m     X_test, y_test \u001b[39m=\u001b[39m _safe_split(estimator, X, y, test, train)\n\u001b[1;32m   1333\u001b[0m     fit_params \u001b[39m=\u001b[39m _check_fit_params(X, fit_params, train)\n\u001b[0;32m-> 1334\u001b[0m     estimator\u001b[39m.\u001b[39;49mfit(X_train, y_train, \u001b[39m*\u001b[39;49m\u001b[39m*\u001b[39;49mfit_params)\n\u001b[1;32m   1335\u001b[0m     avg_score\u001b[39m.\u001b[39mappend(scorer(estimator, X_test, y_test))\n\u001b[1;32m   1336\u001b[0m \u001b[39mreturn\u001b[39;00m np\u001b[39m.\u001b[39mmean(avg_score)\n",
      "File \u001b[0;32m~/miniconda3/envs/uganda-uber/lib/python3.9/site-packages/sklearn/calibration.py:352\u001b[0m, in \u001b[0;36mCalibratedClassifierCV.fit\u001b[0;34m(self, X, y, sample_weight, **fit_params)\u001b[0m\n\u001b[1;32m    350\u001b[0m \u001b[39mif\u001b[39;00m \u001b[39mself\u001b[39m\u001b[39m.\u001b[39mensemble:\n\u001b[1;32m    351\u001b[0m     parallel \u001b[39m=\u001b[39m Parallel(n_jobs\u001b[39m=\u001b[39m\u001b[39mself\u001b[39m\u001b[39m.\u001b[39mn_jobs)\n\u001b[0;32m--> 352\u001b[0m     \u001b[39mself\u001b[39m\u001b[39m.\u001b[39mcalibrated_classifiers_ \u001b[39m=\u001b[39m parallel(\n\u001b[1;32m    353\u001b[0m         delayed(_fit_classifier_calibrator_pair)(\n\u001b[1;32m    354\u001b[0m             clone(base_estimator),\n\u001b[1;32m    355\u001b[0m             X,\n\u001b[1;32m    356\u001b[0m             y,\n\u001b[1;32m    357\u001b[0m             train\u001b[39m=\u001b[39;49mtrain,\n\u001b[1;32m    358\u001b[0m             test\u001b[39m=\u001b[39;49mtest,\n\u001b[1;32m    359\u001b[0m             method\u001b[39m=\u001b[39;49m\u001b[39mself\u001b[39;49m\u001b[39m.\u001b[39;49mmethod,\n\u001b[1;32m    360\u001b[0m             classes\u001b[39m=\u001b[39;49m\u001b[39mself\u001b[39;49m\u001b[39m.\u001b[39;49mclasses_,\n\u001b[1;32m    361\u001b[0m             supports_sw\u001b[39m=\u001b[39;49msupports_sw,\n\u001b[1;32m    362\u001b[0m             sample_weight\u001b[39m=\u001b[39;49msample_weight,\n\u001b[1;32m    363\u001b[0m             \u001b[39m*\u001b[39;49m\u001b[39m*\u001b[39;49mfit_params,\n\u001b[1;32m    364\u001b[0m         )\n\u001b[1;32m    365\u001b[0m         \u001b[39mfor\u001b[39;49;00m train, test \u001b[39min\u001b[39;49;00m cv\u001b[39m.\u001b[39;49msplit(X, y)\n\u001b[1;32m    366\u001b[0m     )\n\u001b[1;32m    367\u001b[0m \u001b[39melse\u001b[39;00m:\n\u001b[1;32m    368\u001b[0m     this_estimator \u001b[39m=\u001b[39m clone(base_estimator)\n",
      "File \u001b[0;32m~/miniconda3/envs/uganda-uber/lib/python3.9/site-packages/joblib/parallel.py:1056\u001b[0m, in \u001b[0;36mParallel.__call__\u001b[0;34m(self, iterable)\u001b[0m\n\u001b[1;32m   1053\u001b[0m     \u001b[39mself\u001b[39m\u001b[39m.\u001b[39m_iterating \u001b[39m=\u001b[39m \u001b[39mFalse\u001b[39;00m\n\u001b[1;32m   1055\u001b[0m \u001b[39mwith\u001b[39;00m \u001b[39mself\u001b[39m\u001b[39m.\u001b[39m_backend\u001b[39m.\u001b[39mretrieval_context():\n\u001b[0;32m-> 1056\u001b[0m     \u001b[39mself\u001b[39;49m\u001b[39m.\u001b[39;49mretrieve()\n\u001b[1;32m   1057\u001b[0m \u001b[39m# Make sure that we get a last message telling us we are done\u001b[39;00m\n\u001b[1;32m   1058\u001b[0m elapsed_time \u001b[39m=\u001b[39m time\u001b[39m.\u001b[39mtime() \u001b[39m-\u001b[39m \u001b[39mself\u001b[39m\u001b[39m.\u001b[39m_start_time\n",
      "File \u001b[0;32m~/miniconda3/envs/uganda-uber/lib/python3.9/site-packages/joblib/parallel.py:935\u001b[0m, in \u001b[0;36mParallel.retrieve\u001b[0;34m(self)\u001b[0m\n\u001b[1;32m    933\u001b[0m \u001b[39mtry\u001b[39;00m:\n\u001b[1;32m    934\u001b[0m     \u001b[39mif\u001b[39;00m \u001b[39mgetattr\u001b[39m(\u001b[39mself\u001b[39m\u001b[39m.\u001b[39m_backend, \u001b[39m'\u001b[39m\u001b[39msupports_timeout\u001b[39m\u001b[39m'\u001b[39m, \u001b[39mFalse\u001b[39;00m):\n\u001b[0;32m--> 935\u001b[0m         \u001b[39mself\u001b[39m\u001b[39m.\u001b[39m_output\u001b[39m.\u001b[39mextend(job\u001b[39m.\u001b[39;49mget(timeout\u001b[39m=\u001b[39;49m\u001b[39mself\u001b[39;49m\u001b[39m.\u001b[39;49mtimeout))\n\u001b[1;32m    936\u001b[0m     \u001b[39melse\u001b[39;00m:\n\u001b[1;32m    937\u001b[0m         \u001b[39mself\u001b[39m\u001b[39m.\u001b[39m_output\u001b[39m.\u001b[39mextend(job\u001b[39m.\u001b[39mget())\n",
      "File \u001b[0;32m~/miniconda3/envs/uganda-uber/lib/python3.9/site-packages/joblib/_parallel_backends.py:542\u001b[0m, in \u001b[0;36mLokyBackend.wrap_future_result\u001b[0;34m(future, timeout)\u001b[0m\n\u001b[1;32m    539\u001b[0m \u001b[39m\"\"\"Wrapper for Future.result to implement the same behaviour as\u001b[39;00m\n\u001b[1;32m    540\u001b[0m \u001b[39mAsyncResults.get from multiprocessing.\"\"\"\u001b[39;00m\n\u001b[1;32m    541\u001b[0m \u001b[39mtry\u001b[39;00m:\n\u001b[0;32m--> 542\u001b[0m     \u001b[39mreturn\u001b[39;00m future\u001b[39m.\u001b[39;49mresult(timeout\u001b[39m=\u001b[39;49mtimeout)\n\u001b[1;32m    543\u001b[0m \u001b[39mexcept\u001b[39;00m CfTimeoutError \u001b[39mas\u001b[39;00m e:\n\u001b[1;32m    544\u001b[0m     \u001b[39mraise\u001b[39;00m \u001b[39mTimeoutError\u001b[39;00m \u001b[39mfrom\u001b[39;00m \u001b[39me\u001b[39;00m\n",
      "File \u001b[0;32m~/miniconda3/envs/uganda-uber/lib/python3.9/concurrent/futures/_base.py:445\u001b[0m, in \u001b[0;36mFuture.result\u001b[0;34m(self, timeout)\u001b[0m\n\u001b[1;32m    443\u001b[0m     \u001b[39mraise\u001b[39;00m CancelledError()\n\u001b[1;32m    444\u001b[0m \u001b[39melif\u001b[39;00m \u001b[39mself\u001b[39m\u001b[39m.\u001b[39m_state \u001b[39m==\u001b[39m FINISHED:\n\u001b[0;32m--> 445\u001b[0m     \u001b[39mreturn\u001b[39;00m \u001b[39mself\u001b[39;49m\u001b[39m.\u001b[39;49m__get_result()\n\u001b[1;32m    446\u001b[0m \u001b[39melse\u001b[39;00m:\n\u001b[1;32m    447\u001b[0m     \u001b[39mraise\u001b[39;00m \u001b[39mTimeoutError\u001b[39;00m()\n",
      "File \u001b[0;32m~/miniconda3/envs/uganda-uber/lib/python3.9/concurrent/futures/_base.py:390\u001b[0m, in \u001b[0;36mFuture.__get_result\u001b[0;34m(self)\u001b[0m\n\u001b[1;32m    388\u001b[0m \u001b[39mif\u001b[39;00m \u001b[39mself\u001b[39m\u001b[39m.\u001b[39m_exception:\n\u001b[1;32m    389\u001b[0m     \u001b[39mtry\u001b[39;00m:\n\u001b[0;32m--> 390\u001b[0m         \u001b[39mraise\u001b[39;00m \u001b[39mself\u001b[39m\u001b[39m.\u001b[39m_exception\n\u001b[1;32m    391\u001b[0m     \u001b[39mfinally\u001b[39;00m:\n\u001b[1;32m    392\u001b[0m         \u001b[39m# Break a reference cycle with the exception in self._exception\u001b[39;00m\n\u001b[1;32m    393\u001b[0m         \u001b[39mself\u001b[39m \u001b[39m=\u001b[39m \u001b[39mNone\u001b[39;00m\n",
      "\u001b[0;31mIndexError\u001b[0m: index (49999) out of range"
     ]
    }
   ],
   "source": [
    "score, perm_scores, pvalue = permutation_test_score(\n",
    "    calibrated_model, X, y, scoring=\"accuracy\", cv=splitter, n_permutations=1000, n_jobs=10\n",
    ")"
   ]
  },
  {
   "cell_type": "code",
   "execution_count": null,
   "metadata": {},
   "outputs": [
    {
     "data": {
      "text/plain": [
       "['data/perm_score_data.joblib']"
      ]
     },
     "execution_count": 41,
     "metadata": {},
     "output_type": "execute_result"
    }
   ],
   "source": [
    "# Save permutation scores for later\n",
    "\n",
    "dump((score, perm_scores, pvalue), f'data/perm_score_data_{target}.joblib')"
   ]
  }
 ],
 "metadata": {
  "kernelspec": {
   "display_name": "Python 3.9.7 ('uganda-uber')",
   "language": "python",
   "name": "python3"
  },
  "language_info": {
   "codemirror_mode": {
    "name": "ipython",
    "version": 3
   },
   "file_extension": ".py",
   "mimetype": "text/x-python",
   "name": "python",
   "nbconvert_exporter": "python",
   "pygments_lexer": "ipython3",
   "version": "3.9.7"
  },
  "vscode": {
   "interpreter": {
    "hash": "7561a864ef9f1fd1d1364a29fed4d77b13d91592316d2da0b58a6646a794c410"
   }
  }
 },
 "nbformat": 4,
 "nbformat_minor": 2
}
